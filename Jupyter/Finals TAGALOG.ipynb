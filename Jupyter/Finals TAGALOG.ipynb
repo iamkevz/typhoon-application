{
 "cells": [
  {
   "cell_type": "code",
   "execution_count": 1,
   "id": "7d245aa8-ffb8-4ebc-b8aa-cd2055282252",
   "metadata": {
    "pycharm": {
     "name": "#%%\n"
    }
   },
   "outputs": [
    {
     "data": {
      "text/plain": "                        Date             Tweet Id  \\\n0  2022-04-21 22:13:09+00:00  1517265208657727488   \n1  2022-04-21 21:10:35+00:00  1517249460857835520   \n2  2022-04-21 20:01:13+00:00  1517232006299631617   \n3  2022-04-21 19:15:00+00:00  1517220373821067269   \n4  2022-04-21 16:48:11+00:00  1517183425853083666   \n\n                                       Tweet Content  \\\n0  #SonshineNewsblast: @doe_ph, nagdeklara ng pri...   \n1  Death toll sa Bagyong #AgatonPH lumobo na sa 2...   \n2  #ICYMI: Angel Locsin explained that she chose ...   \n3  BINAWI ng National Disaster Risk Reduction and...   \n4  تحديث | أفاد المجلس الوطني للحد من مخاطر الكوا...   \n\n                                           Tweet URL         Username  \\\n0  https://twitter.com/DZAR1026/status/1517265208...         DZAR1026   \n1  https://twitter.com/dzrhnews/status/1517249460...         dzrhnews   \n2  https://twitter.com/inquirerdotnet/status/1517...   inquirerdotnet   \n3  https://twitter.com/AbanteNews/status/15172203...       AbanteNews   \n4  https://twitter.com/Philippine_live/status/151...  Philippine_live   \n\n  Tweet Language                                        Tweet Media  \\\n0             tl                                                NaN   \n1             tl                                                NaN   \n2             en                                                NaN   \n3             tl                                                NaN   \n4             ar  [Photo(previewUrl='https://pbs.twimg.com/media...   \n\n  Tweet Coordinates Tweet Place  \\\n0               NaN         NaN   \n1               NaN         NaN   \n2               NaN         NaN   \n3               NaN         NaN   \n4               NaN         NaN   \n\n                                             Hastags  Cash Tags  \n0                  ['SonshineNewsblast', 'AgatonPH']        NaN  \n1  ['AgatonPH', 'MagandangUmagaPilipinas', 'SamaS...        NaN  \n2                              ['ICYMI', 'AgatonPH']        NaN  \n3   ['TunayNaTabloidista', 'AbanteNews', 'AgatonPH']        NaN  \n4                                       ['AgatonPH']        NaN  ",
      "text/html": "<div>\n<style scoped>\n    .dataframe tbody tr th:only-of-type {\n        vertical-align: middle;\n    }\n\n    .dataframe tbody tr th {\n        vertical-align: top;\n    }\n\n    .dataframe thead th {\n        text-align: right;\n    }\n</style>\n<table border=\"1\" class=\"dataframe\">\n  <thead>\n    <tr style=\"text-align: right;\">\n      <th></th>\n      <th>Date</th>\n      <th>Tweet Id</th>\n      <th>Tweet Content</th>\n      <th>Tweet URL</th>\n      <th>Username</th>\n      <th>Tweet Language</th>\n      <th>Tweet Media</th>\n      <th>Tweet Coordinates</th>\n      <th>Tweet Place</th>\n      <th>Hastags</th>\n      <th>Cash Tags</th>\n    </tr>\n  </thead>\n  <tbody>\n    <tr>\n      <th>0</th>\n      <td>2022-04-21 22:13:09+00:00</td>\n      <td>1517265208657727488</td>\n      <td>#SonshineNewsblast: @doe_ph, nagdeklara ng pri...</td>\n      <td>https://twitter.com/DZAR1026/status/1517265208...</td>\n      <td>DZAR1026</td>\n      <td>tl</td>\n      <td>NaN</td>\n      <td>NaN</td>\n      <td>NaN</td>\n      <td>['SonshineNewsblast', 'AgatonPH']</td>\n      <td>NaN</td>\n    </tr>\n    <tr>\n      <th>1</th>\n      <td>2022-04-21 21:10:35+00:00</td>\n      <td>1517249460857835520</td>\n      <td>Death toll sa Bagyong #AgatonPH lumobo na sa 2...</td>\n      <td>https://twitter.com/dzrhnews/status/1517249460...</td>\n      <td>dzrhnews</td>\n      <td>tl</td>\n      <td>NaN</td>\n      <td>NaN</td>\n      <td>NaN</td>\n      <td>['AgatonPH', 'MagandangUmagaPilipinas', 'SamaS...</td>\n      <td>NaN</td>\n    </tr>\n    <tr>\n      <th>2</th>\n      <td>2022-04-21 20:01:13+00:00</td>\n      <td>1517232006299631617</td>\n      <td>#ICYMI: Angel Locsin explained that she chose ...</td>\n      <td>https://twitter.com/inquirerdotnet/status/1517...</td>\n      <td>inquirerdotnet</td>\n      <td>en</td>\n      <td>NaN</td>\n      <td>NaN</td>\n      <td>NaN</td>\n      <td>['ICYMI', 'AgatonPH']</td>\n      <td>NaN</td>\n    </tr>\n    <tr>\n      <th>3</th>\n      <td>2022-04-21 19:15:00+00:00</td>\n      <td>1517220373821067269</td>\n      <td>BINAWI ng National Disaster Risk Reduction and...</td>\n      <td>https://twitter.com/AbanteNews/status/15172203...</td>\n      <td>AbanteNews</td>\n      <td>tl</td>\n      <td>NaN</td>\n      <td>NaN</td>\n      <td>NaN</td>\n      <td>['TunayNaTabloidista', 'AbanteNews', 'AgatonPH']</td>\n      <td>NaN</td>\n    </tr>\n    <tr>\n      <th>4</th>\n      <td>2022-04-21 16:48:11+00:00</td>\n      <td>1517183425853083666</td>\n      <td>تحديث | أفاد المجلس الوطني للحد من مخاطر الكوا...</td>\n      <td>https://twitter.com/Philippine_live/status/151...</td>\n      <td>Philippine_live</td>\n      <td>ar</td>\n      <td>[Photo(previewUrl='https://pbs.twimg.com/media...</td>\n      <td>NaN</td>\n      <td>NaN</td>\n      <td>['AgatonPH']</td>\n      <td>NaN</td>\n    </tr>\n  </tbody>\n</table>\n</div>"
     },
     "execution_count": 1,
     "metadata": {},
     "output_type": "execute_result"
    }
   ],
   "source": [
    "import pandas as pd\n",
    "import preprocessor as p\n",
    "import string\n",
    "import re\n",
    "from textblob import TextBlob\n",
    "from nltk.tokenize import word_tokenize\n",
    "from nltk.stem import PorterStemmer\n",
    "from nltk.corpus import stopwords\n",
    "stop_words = set(stopwords.words('english'))\n",
    "from wordcloud import WordCloud\n",
    "import warnings\n",
    "warnings.filterwarnings(\"ignore\")\n",
    "from vaderSentiment.vaderSentiment import SentimentIntensityAnalyzer\n",
    "from sklearn.feature_extraction.text import CountVectorizer\n",
    "from sklearn.model_selection import train_test_split\n",
    "from sklearn.linear_model import LogisticRegression\n",
    "from sklearn.metrics import accuracy_score, classification_report, confusion_matrix, ConfusionMatrixDisplay\n",
    "\n",
    "pd.set_option('display.max_columns', None)\n",
    "df = pd.read_csv(\"Datasets/Agaton17k.csv\")\n",
    "\n",
    "df.head()"
   ]
  },
  {
   "cell_type": "code",
   "execution_count": 2,
   "id": "3f188c69-f2ec-4693-b842-42974b1fad99",
   "metadata": {
    "pycharm": {
     "name": "#%%\n"
    }
   },
   "outputs": [
    {
     "data": {
      "text/plain": "                         Date             Tweet Id  \\\n0   2022-04-21 22:13:09+00:00  1517265208657727488   \n1   2022-04-21 21:10:35+00:00  1517249460857835520   \n3   2022-04-21 19:15:00+00:00  1517220373821067269   \n6   2022-04-21 16:40:00+00:00  1517181366160412675   \n11  2022-04-21 13:40:23+00:00  1517136166923173894   \n\n                                        Tweet Content  \\\n0   #SonshineNewsblast: @doe_ph, nagdeklara ng pri...   \n1   Death toll sa Bagyong #AgatonPH lumobo na sa 2...   \n3   BINAWI ng National Disaster Risk Reduction and...   \n6   #FrontlineTonight | Plano ng COMELEC na magpat...   \n11  Brgy.Pilar\\nAbuyog Leyte\\n#AgatonPH \\n#abuyogn...   \n\n                                            Tweet URL    Username  \\\n0   https://twitter.com/DZAR1026/status/1517265208...    DZAR1026   \n1   https://twitter.com/dzrhnews/status/1517249460...    dzrhnews   \n3   https://twitter.com/AbanteNews/status/15172203...  AbanteNews   \n6   https://twitter.com/News5PH/status/15171813661...     News5PH   \n11  https://twitter.com/nayer_143/status/151713616...   nayer_143   \n\n   Tweet Language                                        Tweet Media  \\\n0              tl                                                NaN   \n1              tl                                                NaN   \n3              tl                                                NaN   \n6              tl  [Video(thumbnailUrl='https://pbs.twimg.com/amp...   \n11             tl  [Video(thumbnailUrl='https://pbs.twimg.com/ext...   \n\n   Tweet Coordinates Tweet Place  \\\n0                NaN         NaN   \n1                NaN         NaN   \n3                NaN         NaN   \n6                NaN         NaN   \n11               NaN         NaN   \n\n                                              Hastags  Cash Tags  \n0                   ['SonshineNewsblast', 'AgatonPH']        NaN  \n1   ['AgatonPH', 'MagandangUmagaPilipinas', 'SamaS...        NaN  \n3    ['TunayNaTabloidista', 'AbanteNews', 'AgatonPH']        NaN  \n6   ['FrontlineTonight', 'AgatonPH', 'BilangPilipi...        NaN  \n11                    ['AgatonPH', 'abuyogneedshelp']        NaN  ",
      "text/html": "<div>\n<style scoped>\n    .dataframe tbody tr th:only-of-type {\n        vertical-align: middle;\n    }\n\n    .dataframe tbody tr th {\n        vertical-align: top;\n    }\n\n    .dataframe thead th {\n        text-align: right;\n    }\n</style>\n<table border=\"1\" class=\"dataframe\">\n  <thead>\n    <tr style=\"text-align: right;\">\n      <th></th>\n      <th>Date</th>\n      <th>Tweet Id</th>\n      <th>Tweet Content</th>\n      <th>Tweet URL</th>\n      <th>Username</th>\n      <th>Tweet Language</th>\n      <th>Tweet Media</th>\n      <th>Tweet Coordinates</th>\n      <th>Tweet Place</th>\n      <th>Hastags</th>\n      <th>Cash Tags</th>\n    </tr>\n  </thead>\n  <tbody>\n    <tr>\n      <th>0</th>\n      <td>2022-04-21 22:13:09+00:00</td>\n      <td>1517265208657727488</td>\n      <td>#SonshineNewsblast: @doe_ph, nagdeklara ng pri...</td>\n      <td>https://twitter.com/DZAR1026/status/1517265208...</td>\n      <td>DZAR1026</td>\n      <td>tl</td>\n      <td>NaN</td>\n      <td>NaN</td>\n      <td>NaN</td>\n      <td>['SonshineNewsblast', 'AgatonPH']</td>\n      <td>NaN</td>\n    </tr>\n    <tr>\n      <th>1</th>\n      <td>2022-04-21 21:10:35+00:00</td>\n      <td>1517249460857835520</td>\n      <td>Death toll sa Bagyong #AgatonPH lumobo na sa 2...</td>\n      <td>https://twitter.com/dzrhnews/status/1517249460...</td>\n      <td>dzrhnews</td>\n      <td>tl</td>\n      <td>NaN</td>\n      <td>NaN</td>\n      <td>NaN</td>\n      <td>['AgatonPH', 'MagandangUmagaPilipinas', 'SamaS...</td>\n      <td>NaN</td>\n    </tr>\n    <tr>\n      <th>3</th>\n      <td>2022-04-21 19:15:00+00:00</td>\n      <td>1517220373821067269</td>\n      <td>BINAWI ng National Disaster Risk Reduction and...</td>\n      <td>https://twitter.com/AbanteNews/status/15172203...</td>\n      <td>AbanteNews</td>\n      <td>tl</td>\n      <td>NaN</td>\n      <td>NaN</td>\n      <td>NaN</td>\n      <td>['TunayNaTabloidista', 'AbanteNews', 'AgatonPH']</td>\n      <td>NaN</td>\n    </tr>\n    <tr>\n      <th>6</th>\n      <td>2022-04-21 16:40:00+00:00</td>\n      <td>1517181366160412675</td>\n      <td>#FrontlineTonight | Plano ng COMELEC na magpat...</td>\n      <td>https://twitter.com/News5PH/status/15171813661...</td>\n      <td>News5PH</td>\n      <td>tl</td>\n      <td>[Video(thumbnailUrl='https://pbs.twimg.com/amp...</td>\n      <td>NaN</td>\n      <td>NaN</td>\n      <td>['FrontlineTonight', 'AgatonPH', 'BilangPilipi...</td>\n      <td>NaN</td>\n    </tr>\n    <tr>\n      <th>11</th>\n      <td>2022-04-21 13:40:23+00:00</td>\n      <td>1517136166923173894</td>\n      <td>Brgy.Pilar\\nAbuyog Leyte\\n#AgatonPH \\n#abuyogn...</td>\n      <td>https://twitter.com/nayer_143/status/151713616...</td>\n      <td>nayer_143</td>\n      <td>tl</td>\n      <td>[Video(thumbnailUrl='https://pbs.twimg.com/ext...</td>\n      <td>NaN</td>\n      <td>NaN</td>\n      <td>['AgatonPH', 'abuyogneedshelp']</td>\n      <td>NaN</td>\n    </tr>\n  </tbody>\n</table>\n</div>"
     },
     "execution_count": 2,
     "metadata": {},
     "output_type": "execute_result"
    }
   ],
   "source": [
    "temp = df[(df[\"Tweet Language\"] == \"tl\")]\n",
    "temp.head()"
   ]
  },
  {
   "cell_type": "code",
   "execution_count": 3,
   "id": "0766766d-886f-450e-b940-092205639f5c",
   "metadata": {
    "pycharm": {
     "name": "#%%\n"
    }
   },
   "outputs": [
    {
     "data": {
      "text/plain": "                                              cleaned\n0   sonshinenewsblast doe_ph nagdeklara ng price f...\n1   death toll sa bagyong agatonph lumobo na sa 22...\n3   binawi ng national disaster risk reduction man...\n6   frontlinetonight plano ng comelec na magpatayo...\n11    brgypilar abuyog leyte agatonph abuyogneedshelp\n12  death toll sa bagsik ng bagyong agatonph pumal...\n13  going na po ang aming livestream cause para po...\n14  cash donations channels paypal gcash alab ayro...\n23  mga namatay sa hagupit ng agatonph sa visayas ...\n24  php 300 nga atuda sa mga taga capiz nga biktim...",
      "text/html": "<div>\n<style scoped>\n    .dataframe tbody tr th:only-of-type {\n        vertical-align: middle;\n    }\n\n    .dataframe tbody tr th {\n        vertical-align: top;\n    }\n\n    .dataframe thead th {\n        text-align: right;\n    }\n</style>\n<table border=\"1\" class=\"dataframe\">\n  <thead>\n    <tr style=\"text-align: right;\">\n      <th></th>\n      <th>cleaned</th>\n    </tr>\n  </thead>\n  <tbody>\n    <tr>\n      <th>0</th>\n      <td>sonshinenewsblast doe_ph nagdeklara ng price f...</td>\n    </tr>\n    <tr>\n      <th>1</th>\n      <td>death toll sa bagyong agatonph lumobo na sa 22...</td>\n    </tr>\n    <tr>\n      <th>3</th>\n      <td>binawi ng national disaster risk reduction man...</td>\n    </tr>\n    <tr>\n      <th>6</th>\n      <td>frontlinetonight plano ng comelec na magpatayo...</td>\n    </tr>\n    <tr>\n      <th>11</th>\n      <td>brgypilar abuyog leyte agatonph abuyogneedshelp</td>\n    </tr>\n    <tr>\n      <th>12</th>\n      <td>death toll sa bagsik ng bagyong agatonph pumal...</td>\n    </tr>\n    <tr>\n      <th>13</th>\n      <td>going na po ang aming livestream cause para po...</td>\n    </tr>\n    <tr>\n      <th>14</th>\n      <td>cash donations channels paypal gcash alab ayro...</td>\n    </tr>\n    <tr>\n      <th>23</th>\n      <td>mga namatay sa hagupit ng agatonph sa visayas ...</td>\n    </tr>\n    <tr>\n      <th>24</th>\n      <td>php 300 nga atuda sa mga taga capiz nga biktim...</td>\n    </tr>\n  </tbody>\n</table>\n</div>"
     },
     "execution_count": 3,
     "metadata": {},
     "output_type": "execute_result"
    }
   ],
   "source": [
    "def preprocessing_text(text):\n",
    "    text = text.lower()\n",
    "    text = re.sub(r\"https\\S+|www\\S+https\\S+\", '',text, flags=re.MULTILINE)\n",
    "    text = re.sub(r'\\@w+|\\#','',text)\n",
    "    text = re.sub(r'[^\\w\\s]','',text)\n",
    "    text_tokens = word_tokenize(text)\n",
    "    filtered_text = [w for w in text_tokens if not w in stop_words]\n",
    "    return \" \".join(filtered_text)\n",
    "\n",
    "tweet_df = pd.DataFrame()\n",
    "tweet_df['cleaned'] = temp['Tweet Content'].apply(preprocessing_text)\n",
    "tweet_df.head(10)"
   ]
  },
  {
   "cell_type": "code",
   "execution_count": 4,
   "outputs": [],
   "source": [
    "sentiment_analyzer = SentimentIntensityAnalyzer()\n",
    "new_words = pd.read_csv('Datasets/tagalog_lexicon.csv', header=None, index_col=0, squeeze=True).to_dict()\n",
    "sentiment_analyzer.lexicon.update(new_words)\n",
    "\n",
    "def polarity(text):\n",
    "    return sentiment_analyzer.polarity_scores(text)['compound']\n",
    "tweet_df['sentiment_value'] = tweet_df['cleaned'].apply(polarity)"
   ],
   "metadata": {
    "collapsed": false,
    "pycharm": {
     "name": "#%%\n"
    }
   }
  },
  {
   "cell_type": "code",
   "execution_count": 5,
   "outputs": [],
   "source": [
    "def sentiment(label):\n",
    "    if label < 0:\n",
    "        if label < -0.5:\n",
    "            return -2\n",
    "        else:\n",
    "            return 1\n",
    "    elif label == 0:\n",
    "        return 0\n",
    "    elif label > 0:\n",
    "        if label > 0.5:\n",
    "            return 1\n",
    "        else:\n",
    "            return 2\n"
   ],
   "metadata": {
    "collapsed": false,
    "pycharm": {
     "name": "#%%\n"
    }
   }
  },
  {
   "cell_type": "code",
   "execution_count": 6,
   "outputs": [
    {
     "data": {
      "text/plain": "                                                 cleaned  sentiment_value  \\\n16326  ts agaton still eastern visayas ang bagyong ag...          -0.7269   \n6277   tulong tulong para sa mga kapwa natin pilipino...           0.4767   \n16617  ingat po mga kababayan lalo na sa eastern visa...          -0.5574   \n8268   kaya natin magpa trend sa mga ganap ng idol na...           0.7003   \n2334   another landslide happening brgy mailhi sitio ...           0.1027   \n8814   iloilo right di pa lahat ng places nkasama d2 ...           0.4019   \n14150  kahuot sa akoa dughan maglantaw sa nahitabo sa...           0.0000   \n8531   translationsunodsunod na ang pagdagsa ng mga p...          -0.3612   \n16212  sanay na sanay na yata ang team namin sa relie...           0.8074   \n13615  look nagsimula nang mag kapinkbisig ang ating ...           0.1531   \n\n       sentiment  \n16326         -2  \n6277           2  \n16617         -2  \n8268           1  \n2334           2  \n8814           2  \n14150          0  \n8531           1  \n16212          1  \n13615          2  ",
      "text/html": "<div>\n<style scoped>\n    .dataframe tbody tr th:only-of-type {\n        vertical-align: middle;\n    }\n\n    .dataframe tbody tr th {\n        vertical-align: top;\n    }\n\n    .dataframe thead th {\n        text-align: right;\n    }\n</style>\n<table border=\"1\" class=\"dataframe\">\n  <thead>\n    <tr style=\"text-align: right;\">\n      <th></th>\n      <th>cleaned</th>\n      <th>sentiment_value</th>\n      <th>sentiment</th>\n    </tr>\n  </thead>\n  <tbody>\n    <tr>\n      <th>16326</th>\n      <td>ts agaton still eastern visayas ang bagyong ag...</td>\n      <td>-0.7269</td>\n      <td>-2</td>\n    </tr>\n    <tr>\n      <th>6277</th>\n      <td>tulong tulong para sa mga kapwa natin pilipino...</td>\n      <td>0.4767</td>\n      <td>2</td>\n    </tr>\n    <tr>\n      <th>16617</th>\n      <td>ingat po mga kababayan lalo na sa eastern visa...</td>\n      <td>-0.5574</td>\n      <td>-2</td>\n    </tr>\n    <tr>\n      <th>8268</th>\n      <td>kaya natin magpa trend sa mga ganap ng idol na...</td>\n      <td>0.7003</td>\n      <td>1</td>\n    </tr>\n    <tr>\n      <th>2334</th>\n      <td>another landslide happening brgy mailhi sitio ...</td>\n      <td>0.1027</td>\n      <td>2</td>\n    </tr>\n    <tr>\n      <th>8814</th>\n      <td>iloilo right di pa lahat ng places nkasama d2 ...</td>\n      <td>0.4019</td>\n      <td>2</td>\n    </tr>\n    <tr>\n      <th>14150</th>\n      <td>kahuot sa akoa dughan maglantaw sa nahitabo sa...</td>\n      <td>0.0000</td>\n      <td>0</td>\n    </tr>\n    <tr>\n      <th>8531</th>\n      <td>translationsunodsunod na ang pagdagsa ng mga p...</td>\n      <td>-0.3612</td>\n      <td>1</td>\n    </tr>\n    <tr>\n      <th>16212</th>\n      <td>sanay na sanay na yata ang team namin sa relie...</td>\n      <td>0.8074</td>\n      <td>1</td>\n    </tr>\n    <tr>\n      <th>13615</th>\n      <td>look nagsimula nang mag kapinkbisig ang ating ...</td>\n      <td>0.1531</td>\n      <td>2</td>\n    </tr>\n  </tbody>\n</table>\n</div>"
     },
     "execution_count": 6,
     "metadata": {},
     "output_type": "execute_result"
    }
   ],
   "source": [
    "tweet_df['sentiment'] = tweet_df['sentiment_value'].apply(sentiment)\n",
    "tweet_df.sample(10)"
   ],
   "metadata": {
    "collapsed": false,
    "pycharm": {
     "name": "#%%\n"
    }
   }
  },
  {
   "cell_type": "code",
   "execution_count": 7,
   "outputs": [],
   "source": [
    "vect = CountVectorizer(ngram_range=(1,2)).fit(tweet_df['cleaned'])\n",
    "feature_names = vect.get_feature_names()"
   ],
   "metadata": {
    "collapsed": false,
    "pycharm": {
     "name": "#%%\n"
    }
   }
  },
  {
   "cell_type": "code",
   "execution_count": 8,
   "outputs": [],
   "source": [
    "X = tweet_df['cleaned']\n",
    "Y = tweet_df['sentiment']\n",
    "X = vect.transform(X)\n",
    "\n",
    "x_train, x_test, y_train, y_test = train_test_split(X, Y, test_size=0.2, random_state=42)"
   ],
   "metadata": {
    "collapsed": false,
    "pycharm": {
     "name": "#%%\n"
    }
   }
  },
  {
   "cell_type": "code",
   "execution_count": 9,
   "outputs": [
    {
     "name": "stdout",
     "output_type": "stream",
     "text": [
      "Size of x_train: (2712, 42062)\n",
      "Size of y_train: (2712,)\n",
      "Size of x_test: (679, 42062)\n",
      "Size of y_test: (679,)\n"
     ]
    }
   ],
   "source": [
    "print(\"Size of x_train:\", (x_train.shape))\n",
    "print(\"Size of y_train:\", (y_train.shape))\n",
    "print(\"Size of x_test:\", (x_test.shape))\n",
    "print(\"Size of y_test:\", (y_test.shape))"
   ],
   "metadata": {
    "collapsed": false,
    "pycharm": {
     "name": "#%%\n"
    }
   }
  },
  {
   "cell_type": "code",
   "execution_count": 10,
   "outputs": [
    {
     "name": "stdout",
     "output_type": "stream",
     "text": [
      "Test accuracy: 71.72312223858616\n"
     ]
    }
   ],
   "source": [
    "logreg = LogisticRegression()\n",
    "logreg.fit(x_train, y_train)\n",
    "logreg_pred = logreg.predict(x_test)\n",
    "logreg_acc = accuracy_score(logreg_pred, y_test)\n",
    "print(\"Test accuracy: \" + str(logreg_acc*100))"
   ],
   "metadata": {
    "collapsed": false,
    "pycharm": {
     "name": "#%%\n"
    }
   }
  },
  {
   "cell_type": "code",
   "execution_count": 11,
   "outputs": [
    {
     "data": {
      "text/plain": "       Actual Value  Predicted Value\n351               2                1\n9889              0                0\n13674             2                2\n12036             1               -2\n7938              1                1\n...             ...              ...\n5199              0                0\n12296             1                1\n16415             0                0\n5844              0                0\n13416            -2                1\n\n[679 rows x 2 columns]",
      "text/html": "<div>\n<style scoped>\n    .dataframe tbody tr th:only-of-type {\n        vertical-align: middle;\n    }\n\n    .dataframe tbody tr th {\n        vertical-align: top;\n    }\n\n    .dataframe thead th {\n        text-align: right;\n    }\n</style>\n<table border=\"1\" class=\"dataframe\">\n  <thead>\n    <tr style=\"text-align: right;\">\n      <th></th>\n      <th>Actual Value</th>\n      <th>Predicted Value</th>\n    </tr>\n  </thead>\n  <tbody>\n    <tr>\n      <th>351</th>\n      <td>2</td>\n      <td>1</td>\n    </tr>\n    <tr>\n      <th>9889</th>\n      <td>0</td>\n      <td>0</td>\n    </tr>\n    <tr>\n      <th>13674</th>\n      <td>2</td>\n      <td>2</td>\n    </tr>\n    <tr>\n      <th>12036</th>\n      <td>1</td>\n      <td>-2</td>\n    </tr>\n    <tr>\n      <th>7938</th>\n      <td>1</td>\n      <td>1</td>\n    </tr>\n    <tr>\n      <th>...</th>\n      <td>...</td>\n      <td>...</td>\n    </tr>\n    <tr>\n      <th>5199</th>\n      <td>0</td>\n      <td>0</td>\n    </tr>\n    <tr>\n      <th>12296</th>\n      <td>1</td>\n      <td>1</td>\n    </tr>\n    <tr>\n      <th>16415</th>\n      <td>0</td>\n      <td>0</td>\n    </tr>\n    <tr>\n      <th>5844</th>\n      <td>0</td>\n      <td>0</td>\n    </tr>\n    <tr>\n      <th>13416</th>\n      <td>-2</td>\n      <td>1</td>\n    </tr>\n  </tbody>\n</table>\n<p>679 rows × 2 columns</p>\n</div>"
     },
     "execution_count": 11,
     "metadata": {},
     "output_type": "execute_result"
    }
   ],
   "source": [
    "pred_y_df=pd.DataFrame({'Actual Value':y_test,'Predicted Value':logreg_pred}) \n",
    "#pred_y_df =pred_y_df[(pred_y_df[\"Actual Value\"] != pred_y_df[\"Predicted Value\"])]\n",
    "pred_y_df"
   ],
   "metadata": {
    "collapsed": false,
    "pycharm": {
     "name": "#%%\n"
    }
   }
  },
  {
   "cell_type": "code",
   "execution_count": 12,
   "outputs": [
    {
     "data": {
      "text/plain": "array([-2])"
     },
     "execution_count": 12,
     "metadata": {},
     "output_type": "execute_result"
    }
   ],
   "source": [
    "# Word to predict (single)\n",
    "word = [\"nasalanta bagyo bahay baha patay lunod buhay\"]\n",
    "temp_word = vect.transform(word)\n",
    "temp_word\n",
    "logreg.predict(temp_word)"
   ],
   "metadata": {
    "collapsed": false,
    "pycharm": {
     "name": "#%%\n"
    }
   }
  },
  {
   "cell_type": "code",
   "execution_count": 13,
   "outputs": [
    {
     "data": {
      "text/plain": "                                                    Text  Predicted Value  \\\n0      sonshinenewsblast doe_ph nagdeklara ng price f...                1   \n1      death toll sa bagyong agatonph lumobo na sa 22...               -2   \n3      binawi ng national disaster risk reduction man...               -2   \n6      frontlinetonight plano ng comelec na magpatayo...               -2   \n11       brgypilar abuyog leyte agatonph abuyogneedshelp                0   \n...                                                  ...              ...   \n16994  warningmataas na ang tsansa na maging bagyo pr...               -2   \n16996  tandaan posible pa pong magbago ang forecast n...               -2   \n16997  kung sakali ang mga susunod na lokal na pangal...                1   \n16998  breaking mataas na ang tiyansang magkaroon ng ...                1   \n16999  bad news moderate 50 na ang tsansa na meron ma...               -2   \n\n       Actual Value  \n0                 1  \n1                -2  \n3                -2  \n6                -2  \n11                0  \n...             ...  \n16994            -2  \n16996            -2  \n16997             1  \n16998            -2  \n16999            -2  \n\n[3391 rows x 3 columns]",
      "text/html": "<div>\n<style scoped>\n    .dataframe tbody tr th:only-of-type {\n        vertical-align: middle;\n    }\n\n    .dataframe tbody tr th {\n        vertical-align: top;\n    }\n\n    .dataframe thead th {\n        text-align: right;\n    }\n</style>\n<table border=\"1\" class=\"dataframe\">\n  <thead>\n    <tr style=\"text-align: right;\">\n      <th></th>\n      <th>Text</th>\n      <th>Predicted Value</th>\n      <th>Actual Value</th>\n    </tr>\n  </thead>\n  <tbody>\n    <tr>\n      <th>0</th>\n      <td>sonshinenewsblast doe_ph nagdeklara ng price f...</td>\n      <td>1</td>\n      <td>1</td>\n    </tr>\n    <tr>\n      <th>1</th>\n      <td>death toll sa bagyong agatonph lumobo na sa 22...</td>\n      <td>-2</td>\n      <td>-2</td>\n    </tr>\n    <tr>\n      <th>3</th>\n      <td>binawi ng national disaster risk reduction man...</td>\n      <td>-2</td>\n      <td>-2</td>\n    </tr>\n    <tr>\n      <th>6</th>\n      <td>frontlinetonight plano ng comelec na magpatayo...</td>\n      <td>-2</td>\n      <td>-2</td>\n    </tr>\n    <tr>\n      <th>11</th>\n      <td>brgypilar abuyog leyte agatonph abuyogneedshelp</td>\n      <td>0</td>\n      <td>0</td>\n    </tr>\n    <tr>\n      <th>...</th>\n      <td>...</td>\n      <td>...</td>\n      <td>...</td>\n    </tr>\n    <tr>\n      <th>16994</th>\n      <td>warningmataas na ang tsansa na maging bagyo pr...</td>\n      <td>-2</td>\n      <td>-2</td>\n    </tr>\n    <tr>\n      <th>16996</th>\n      <td>tandaan posible pa pong magbago ang forecast n...</td>\n      <td>-2</td>\n      <td>-2</td>\n    </tr>\n    <tr>\n      <th>16997</th>\n      <td>kung sakali ang mga susunod na lokal na pangal...</td>\n      <td>1</td>\n      <td>1</td>\n    </tr>\n    <tr>\n      <th>16998</th>\n      <td>breaking mataas na ang tiyansang magkaroon ng ...</td>\n      <td>1</td>\n      <td>-2</td>\n    </tr>\n    <tr>\n      <th>16999</th>\n      <td>bad news moderate 50 na ang tsansa na meron ma...</td>\n      <td>-2</td>\n      <td>-2</td>\n    </tr>\n  </tbody>\n</table>\n<p>3391 rows × 3 columns</p>\n</div>"
     },
     "execution_count": 13,
     "metadata": {},
     "output_type": "execute_result"
    }
   ],
   "source": [
    "# Real Test\n",
    "real_df = tweet_df\n",
    "real_df\n",
    "temp_word = vect.transform(real_df['cleaned'])\n",
    "test = logreg.predict(temp_word)\n",
    "result = pd.DataFrame({'Text':real_df['cleaned'],'Predicted Value':test, 'Actual Value':real_df['sentiment']}) \n",
    "result"
   ],
   "metadata": {
    "collapsed": false,
    "pycharm": {
     "name": "#%%\n"
    }
   }
  },
  {
   "cell_type": "code",
   "execution_count": 14,
   "outputs": [
    {
     "name": "stdout",
     "output_type": "stream",
     "text": [
      "test accuracy: 70.103%\n"
     ]
    }
   ],
   "source": [
    "from sklearn.svm import LinearSVC\n",
    "SVCmodel = LinearSVC()\n",
    "SVCmodel.fit(x_train, y_train)\n",
    "svc_pred = SVCmodel.predict(x_test)\n",
    "svc_acc = accuracy_score(svc_pred, y_test)\n",
    "print(\"test accuracy: {:.3f}%\".format(svc_acc*100))"
   ],
   "metadata": {
    "collapsed": false,
    "pycharm": {
     "name": "#%%\n"
    }
   }
  },
  {
   "cell_type": "code",
   "execution_count": 15,
   "outputs": [
    {
     "name": "stdout",
     "output_type": "stream",
     "text": [
      "test accuracy: 67.452%\n"
     ]
    }
   ],
   "source": [
    "from sklearn.ensemble import RandomForestClassifier\n",
    "naive = RandomForestClassifier()\n",
    "naive.fit(x_train, y_train)\n",
    "naive_pred = naive.predict(x_test)\n",
    "naive_acc = accuracy_score(naive_pred, y_test)\n",
    "print(\"test accuracy: {:.3f}%\".format(naive_acc*100))"
   ],
   "metadata": {
    "collapsed": false,
    "pycharm": {
     "name": "#%%\n"
    }
   }
  },
  {
   "cell_type": "code",
   "execution_count": 16,
   "outputs": [
    {
     "name": "stdout",
     "output_type": "stream",
     "text": [
      "test accuracy: 68.041%\n"
     ]
    }
   ],
   "source": [
    "def model_train(obj):\n",
    "    model_obj = obj\n",
    "    model_obj.fit(x_train, y_train)\n",
    "    return model_obj.predict(x_test)\n",
    "\n",
    "forest_model = RandomForestClassifier()\n",
    "pred = model_train(forest_model)\n",
    "\n",
    "forest_acc = accuracy_score(pred, y_test)\n",
    "print(\"test accuracy: {:.3f}%\".format(forest_acc*100))"
   ],
   "metadata": {
    "collapsed": false,
    "pycharm": {
     "name": "#%%\n"
    }
   }
  },
  {
   "cell_type": "code",
   "execution_count": 17,
   "outputs": [
    {
     "data": {
      "text/plain": "0             Samar\n1             Leyte\n2             Samar\n3    Northern Samar\n4     Eastern Samar\nName: admin_name, dtype: object"
     },
     "execution_count": 17,
     "metadata": {},
     "output_type": "execute_result"
    }
   ],
   "source": [
    "ph = pd.read_csv(\"Datasets/ph.csv\")\n",
    "\n",
    "ph_loc = ph.admin_name\n",
    "need = ['Biliran', 'Leyte', 'Samar', 'Northern Samar', 'Western Samar', 'Eastern Samar']\n",
    "ph_loc = ph_loc[ph_loc.isin(need) == True]\n",
    "ph_loc = ph_loc.reset_index(drop=True)\n",
    "ph_loc.head()"
   ],
   "metadata": {
    "collapsed": false,
    "pycharm": {
     "name": "#%%\n"
    }
   }
  },
  {
   "cell_type": "code",
   "execution_count": 18,
   "outputs": [
    {
     "data": {
      "text/plain": "                                                   Text        Location  \\\n0     sonshinenewsblast doe_ph nagdeklara ng price f...           Leyte   \n1     death toll sa bagyong agatonph lumobo na sa 22...  Northern Samar   \n2     binawi ng national disaster risk reduction man...           Samar   \n3     frontlinetonight plano ng comelec na magpatayo...  Northern Samar   \n4       brgypilar abuyog leyte agatonph abuyogneedshelp           Leyte   \n...                                                 ...             ...   \n3386  warningmataas na ang tsansa na maging bagyo pr...           Leyte   \n3387  tandaan posible pa pong magbago ang forecast n...  Northern Samar   \n3388  kung sakali ang mga susunod na lokal na pangal...           Leyte   \n3389  breaking mataas na ang tiyansang magkaroon ng ...           Leyte   \n3390  bad news moderate 50 na ang tsansa na meron ma...           Samar   \n\n      Sentiment  \n0             1  \n1            -2  \n2            -2  \n3            -2  \n4             0  \n...         ...  \n3386         -2  \n3387         -2  \n3388          1  \n3389          1  \n3390         -2  \n\n[3391 rows x 3 columns]",
      "text/html": "<div>\n<style scoped>\n    .dataframe tbody tr th:only-of-type {\n        vertical-align: middle;\n    }\n\n    .dataframe tbody tr th {\n        vertical-align: top;\n    }\n\n    .dataframe thead th {\n        text-align: right;\n    }\n</style>\n<table border=\"1\" class=\"dataframe\">\n  <thead>\n    <tr style=\"text-align: right;\">\n      <th></th>\n      <th>Text</th>\n      <th>Location</th>\n      <th>Sentiment</th>\n    </tr>\n  </thead>\n  <tbody>\n    <tr>\n      <th>0</th>\n      <td>sonshinenewsblast doe_ph nagdeklara ng price f...</td>\n      <td>Leyte</td>\n      <td>1</td>\n    </tr>\n    <tr>\n      <th>1</th>\n      <td>death toll sa bagyong agatonph lumobo na sa 22...</td>\n      <td>Northern Samar</td>\n      <td>-2</td>\n    </tr>\n    <tr>\n      <th>2</th>\n      <td>binawi ng national disaster risk reduction man...</td>\n      <td>Samar</td>\n      <td>-2</td>\n    </tr>\n    <tr>\n      <th>3</th>\n      <td>frontlinetonight plano ng comelec na magpatayo...</td>\n      <td>Northern Samar</td>\n      <td>-2</td>\n    </tr>\n    <tr>\n      <th>4</th>\n      <td>brgypilar abuyog leyte agatonph abuyogneedshelp</td>\n      <td>Leyte</td>\n      <td>0</td>\n    </tr>\n    <tr>\n      <th>...</th>\n      <td>...</td>\n      <td>...</td>\n      <td>...</td>\n    </tr>\n    <tr>\n      <th>3386</th>\n      <td>warningmataas na ang tsansa na maging bagyo pr...</td>\n      <td>Leyte</td>\n      <td>-2</td>\n    </tr>\n    <tr>\n      <th>3387</th>\n      <td>tandaan posible pa pong magbago ang forecast n...</td>\n      <td>Northern Samar</td>\n      <td>-2</td>\n    </tr>\n    <tr>\n      <th>3388</th>\n      <td>kung sakali ang mga susunod na lokal na pangal...</td>\n      <td>Leyte</td>\n      <td>1</td>\n    </tr>\n    <tr>\n      <th>3389</th>\n      <td>breaking mataas na ang tiyansang magkaroon ng ...</td>\n      <td>Leyte</td>\n      <td>1</td>\n    </tr>\n    <tr>\n      <th>3390</th>\n      <td>bad news moderate 50 na ang tsansa na meron ma...</td>\n      <td>Samar</td>\n      <td>-2</td>\n    </tr>\n  </tbody>\n</table>\n<p>3391 rows × 3 columns</p>\n</div>"
     },
     "execution_count": 18,
     "metadata": {},
     "output_type": "execute_result"
    }
   ],
   "source": [
    "# NOT FINAL! RANDOM LOACTION ASSIGMENT\n",
    "# NOT ACTUAL SPATIAL ANALYSIS\n",
    "import json\n",
    "import numpy as np\n",
    "import pandas as pd\n",
    "import plotly.express as px\n",
    "import plotly.io as pio\n",
    "pio.renderers.default = 'browser'\n",
    "\n",
    "import random\n",
    "\n",
    "provinces = json.load(open(\"Datasets/Provinces.geojson\", \"r\"))\n",
    "id_map = {}\n",
    "for feature in provinces[\"features\"]:\n",
    "    feature[\"id\"] = feature[\"properties\"][\"ID_1\"]\n",
    "    id_map[feature[\"properties\"][\"NAME_1\"]] = feature[\"id\"]\n",
    "\n",
    "rand_loc = pd.DataFrame()\n",
    "\n",
    "rand = []\n",
    "for x in range(3391):\n",
    "    #loc = \"Leyte\"\n",
    "    loc = ph_loc[random.randint(0, ph_loc.shape[0] - 1)]\n",
    "    if not id_map.__contains__(loc):\n",
    "        loc= \"Tarlac\"\n",
    "    rand.append(loc)\n",
    "\n",
    "location_sentiment_df = pd.DataFrame({'Text':real_df['cleaned'],'Location':rand, 'Sentiment':test}).reset_index(drop=True)\n",
    "location_sentiment_df"
   ],
   "metadata": {
    "collapsed": false,
    "pycharm": {
     "name": "#%%\n"
    }
   }
  },
  {
   "cell_type": "code",
   "execution_count": 19,
   "outputs": [],
   "source": [
    "location_sentiment_df = location_sentiment_df[['Location', 'Sentiment']]"
   ],
   "metadata": {
    "collapsed": false,
    "pycharm": {
     "name": "#%%\n"
    }
   }
  },
  {
   "cell_type": "code",
   "execution_count": 20,
   "outputs": [],
   "source": [
    "location_sentiment_df[\"id\"] = location_sentiment_df[\"Location\"].apply(lambda x: id_map[x])"
   ],
   "metadata": {
    "collapsed": false,
    "pycharm": {
     "name": "#%%\n"
    }
   }
  },
  {
   "cell_type": "code",
   "execution_count": 21,
   "outputs": [],
   "source": [
    "fig = px.choropleth(\n",
    "    location_sentiment_df,\n",
    "    locations=\"id\",\n",
    "    geojson=provinces,\n",
    "    color=\"Sentiment\",\n",
    "    title=\"PH\",\n",
    ")\n",
    "fig.update_geos(fitbounds=\"locations\", visible=False)\n",
    "fig.show()"
   ],
   "metadata": {
    "collapsed": false,
    "pycharm": {
     "name": "#%%\n"
    }
   }
  },
  {
   "cell_type": "code",
   "execution_count": 22,
   "outputs": [
    {
     "data": {
      "text/plain": "       mean        location  id\n0  0.196817           Leyte  43\n1  0.160514  Northern Samar  54\n2  0.170635           Samar  66\n3  0.140893   Eastern Samar  31\n4  0.250000         Biliran  14",
      "text/html": "<div>\n<style scoped>\n    .dataframe tbody tr th:only-of-type {\n        vertical-align: middle;\n    }\n\n    .dataframe tbody tr th {\n        vertical-align: top;\n    }\n\n    .dataframe thead th {\n        text-align: right;\n    }\n</style>\n<table border=\"1\" class=\"dataframe\">\n  <thead>\n    <tr style=\"text-align: right;\">\n      <th></th>\n      <th>mean</th>\n      <th>location</th>\n      <th>id</th>\n    </tr>\n  </thead>\n  <tbody>\n    <tr>\n      <th>0</th>\n      <td>0.196817</td>\n      <td>Leyte</td>\n      <td>43</td>\n    </tr>\n    <tr>\n      <th>1</th>\n      <td>0.160514</td>\n      <td>Northern Samar</td>\n      <td>54</td>\n    </tr>\n    <tr>\n      <th>2</th>\n      <td>0.170635</td>\n      <td>Samar</td>\n      <td>66</td>\n    </tr>\n    <tr>\n      <th>3</th>\n      <td>0.140893</td>\n      <td>Eastern Samar</td>\n      <td>31</td>\n    </tr>\n    <tr>\n      <th>4</th>\n      <td>0.250000</td>\n      <td>Biliran</td>\n      <td>14</td>\n    </tr>\n  </tbody>\n</table>\n</div>"
     },
     "execution_count": 22,
     "metadata": {},
     "output_type": "execute_result"
    }
   ],
   "source": [
    "occuring_loc = location_sentiment_df.Location.value_counts().reset_index()['index']\n",
    "locs_sentiment = pd.DataFrame()\n",
    "summ_locs_sentiment = pd.DataFrame()\n",
    "list_mean = []\n",
    "\n",
    "for _loc in range(occuring_loc.shape[0]): \n",
    "    place = occuring_loc[_loc]\n",
    "    temp = location_sentiment_df.loc[location_sentiment_df[\"Location\"].isin([place])].Sentiment.reset_index(drop=True)\n",
    "    locs_sentiment[place] = temp\n",
    "for _loc in range(occuring_loc.shape[0]): \n",
    "    place = occuring_loc[_loc]\n",
    "    list_mean.append(locs_sentiment[place].mean())\n",
    "    \n",
    "summ_locs_sentiment['mean'] = pd.Series(list_mean)\n",
    "summ_locs_sentiment['location'] = occuring_loc\n",
    "summ_locs_sentiment['id'] = summ_locs_sentiment[\"location\"].apply(lambda x: id_map[x])\n",
    "summ_locs_sentiment"
   ],
   "metadata": {
    "collapsed": false,
    "pycharm": {
     "name": "#%%\n"
    }
   }
  },
  {
   "cell_type": "code",
   "execution_count": 23,
   "outputs": [],
   "source": [
    "fig = px.choropleth_mapbox(\n",
    "    summ_locs_sentiment,\n",
    "    locations=\"id\",\n",
    "    geojson=provinces,\n",
    "    color=\"mean\",\n",
    "    title=\"PH\",\n",
    "    mapbox_style=\"carto-positron\",\n",
    "    center={\"lat\": 12, \"lon\": 122},\n",
    "    opacity=0.5,\n",
    "    zoom=5,\n",
    ")\n",
    "fig.show()"
   ],
   "metadata": {
    "collapsed": false,
    "pycharm": {
     "name": "#%%\n"
    }
   }
  },
  {
   "cell_type": "code",
   "execution_count": 24,
   "outputs": [],
   "source": [
    "import folium\n",
    "from folium.plugins import HeatMap\n",
    "\n",
    "mapObj = folium.Map([12, 122], zoom_start=6)\n",
    "\n",
    "data = [\n",
    "    [12, 122.32345235, 0.1],\n",
    "    [12, 123.12341425, 0.1],\n",
    "    [12, 122.9378453, 0.1],\n",
    "    [12, 122.4932743, 0.1],\n",
    "    [12, 122.2343, 0.1],\n",
    "    [12, 122.5322, 0.1],\n",
    "]\n",
    "\n",
    "# create heatmap from the data and add to map\n",
    "HeatMap(data).add_to(mapObj)\n",
    "\n",
    "mapObj.save(\"output.html\")"
   ],
   "metadata": {
    "collapsed": false,
    "pycharm": {
     "name": "#%%\n"
    }
   }
  },
  {
   "cell_type": "code",
   "execution_count": 25,
   "id": "c085518c-fb1f-4980-b80d-c32138142b3e",
   "metadata": {
    "pycharm": {
     "name": "#%%\n"
    }
   },
   "outputs": [
    {
     "data": {
      "text/plain": "                                                    Text  Predicted Value  \\\n0      sonshinenewsblast doe_ph nagdeklara ng price f...                1   \n1      death toll sa bagyong agatonph lumobo na sa 22...               -2   \n3      binawi ng national disaster risk reduction man...               -2   \n6      frontlinetonight plano ng comelec na magpatayo...               -2   \n11       brgypilar abuyog leyte agatonph abuyogneedshelp                0   \n...                                                  ...              ...   \n16994  warningmataas na ang tsansa na maging bagyo pr...               -2   \n16996  tandaan posible pa pong magbago ang forecast n...               -2   \n16997  kung sakali ang mga susunod na lokal na pangal...                1   \n16998  breaking mataas na ang tiyansang magkaroon ng ...                1   \n16999  bad news moderate 50 na ang tsansa na meron ma...               -2   \n\n       Actual Value  \n0                 1  \n1                -2  \n3                -2  \n6                -2  \n11                0  \n...             ...  \n16994            -2  \n16996            -2  \n16997             1  \n16998            -2  \n16999            -2  \n\n[3391 rows x 3 columns]",
      "text/html": "<div>\n<style scoped>\n    .dataframe tbody tr th:only-of-type {\n        vertical-align: middle;\n    }\n\n    .dataframe tbody tr th {\n        vertical-align: top;\n    }\n\n    .dataframe thead th {\n        text-align: right;\n    }\n</style>\n<table border=\"1\" class=\"dataframe\">\n  <thead>\n    <tr style=\"text-align: right;\">\n      <th></th>\n      <th>Text</th>\n      <th>Predicted Value</th>\n      <th>Actual Value</th>\n    </tr>\n  </thead>\n  <tbody>\n    <tr>\n      <th>0</th>\n      <td>sonshinenewsblast doe_ph nagdeklara ng price f...</td>\n      <td>1</td>\n      <td>1</td>\n    </tr>\n    <tr>\n      <th>1</th>\n      <td>death toll sa bagyong agatonph lumobo na sa 22...</td>\n      <td>-2</td>\n      <td>-2</td>\n    </tr>\n    <tr>\n      <th>3</th>\n      <td>binawi ng national disaster risk reduction man...</td>\n      <td>-2</td>\n      <td>-2</td>\n    </tr>\n    <tr>\n      <th>6</th>\n      <td>frontlinetonight plano ng comelec na magpatayo...</td>\n      <td>-2</td>\n      <td>-2</td>\n    </tr>\n    <tr>\n      <th>11</th>\n      <td>brgypilar abuyog leyte agatonph abuyogneedshelp</td>\n      <td>0</td>\n      <td>0</td>\n    </tr>\n    <tr>\n      <th>...</th>\n      <td>...</td>\n      <td>...</td>\n      <td>...</td>\n    </tr>\n    <tr>\n      <th>16994</th>\n      <td>warningmataas na ang tsansa na maging bagyo pr...</td>\n      <td>-2</td>\n      <td>-2</td>\n    </tr>\n    <tr>\n      <th>16996</th>\n      <td>tandaan posible pa pong magbago ang forecast n...</td>\n      <td>-2</td>\n      <td>-2</td>\n    </tr>\n    <tr>\n      <th>16997</th>\n      <td>kung sakali ang mga susunod na lokal na pangal...</td>\n      <td>1</td>\n      <td>1</td>\n    </tr>\n    <tr>\n      <th>16998</th>\n      <td>breaking mataas na ang tiyansang magkaroon ng ...</td>\n      <td>1</td>\n      <td>-2</td>\n    </tr>\n    <tr>\n      <th>16999</th>\n      <td>bad news moderate 50 na ang tsansa na meron ma...</td>\n      <td>-2</td>\n      <td>-2</td>\n    </tr>\n  </tbody>\n</table>\n<p>3391 rows × 3 columns</p>\n</div>"
     },
     "execution_count": 25,
     "metadata": {},
     "output_type": "execute_result"
    }
   ],
   "source": [
    "# Real Test\n",
    "real_df = tweet_df\n",
    "real_df\n",
    "temp_word = vect.transform(real_df['cleaned'])\n",
    "test = logreg.predict(temp_word)\n",
    "result = pd.DataFrame({'Text':real_df['cleaned'],'Predicted Value':test, 'Actual Value':real_df['sentiment']}) \n",
    "result"
   ]
  },
  {
   "cell_type": "code",
   "execution_count": 26,
   "id": "1c723450-350d-4148-80fe-e57ae0cc3e02",
   "metadata": {
    "pycharm": {
     "name": "#%%\n"
    }
   },
   "outputs": [
    {
     "name": "stdout",
     "output_type": "stream",
     "text": [
      "test accuracy: 70.103%\n"
     ]
    }
   ],
   "source": [
    "from sklearn.svm import LinearSVC\n",
    "SVCmodel = LinearSVC()\n",
    "SVCmodel.fit(x_train, y_train)\n",
    "svc_pred = SVCmodel.predict(x_test)\n",
    "svc_acc = accuracy_score(svc_pred, y_test)\n",
    "print(\"test accuracy: {:.3f}%\".format(svc_acc*100))"
   ]
  },
  {
   "cell_type": "code",
   "execution_count": 27,
   "id": "5a8f6842-63af-42bc-8e2d-0c1f9651ebc1",
   "metadata": {
    "pycharm": {
     "name": "#%%\n"
    }
   },
   "outputs": [
    {
     "name": "stdout",
     "output_type": "stream",
     "text": [
      "test accuracy: 67.305%\n"
     ]
    }
   ],
   "source": [
    "from sklearn.ensemble import RandomForestClassifier\n",
    "naive = RandomForestClassifier()\n",
    "naive.fit(x_train, y_train)\n",
    "naive_pred = naive.predict(x_test)\n",
    "naive_acc = accuracy_score(naive_pred, y_test)\n",
    "print(\"test accuracy: {:.3f}%\".format(naive_acc*100))"
   ]
  },
  {
   "cell_type": "code",
   "execution_count": 28,
   "outputs": [
    {
     "name": "stdout",
     "output_type": "stream",
     "text": [
      "test accuracy: 68.189%\n"
     ]
    }
   ],
   "source": [
    "def model_train(obj):\n",
    "    model_obj = obj\n",
    "    model_obj.fit(x_train, y_train)\n",
    "    return model_obj.predict(x_test)\n",
    "\n",
    "forest_model = RandomForestClassifier()\n",
    "pred = model_train(forest_model)\n",
    "\n",
    "forest_acc = accuracy_score(pred, y_test)\n",
    "print(\"test accuracy: {:.3f}%\".format(forest_acc*100))"
   ],
   "metadata": {
    "collapsed": false,
    "pycharm": {
     "name": "#%%\n"
    }
   }
  },
  {
   "cell_type": "code",
   "execution_count": 29,
   "outputs": [
    {
     "data": {
      "text/plain": "0    Leyte\n1    Leyte\n2    Leyte\n3    Leyte\n4    Leyte\nName: admin_name, dtype: object"
     },
     "execution_count": 29,
     "metadata": {},
     "output_type": "execute_result"
    }
   ],
   "source": [
    "ph = pd.read_csv(\"Datasets/ph.csv\")\n",
    "\n",
    "ph_loc = ph.admin_name\n",
    "#need = ['Biliran', 'Leyte', 'Samar', 'Northern Samar', 'Western Samar', 'Eastern Samar']\n",
    "#ph_loc = ph_loc[ph_loc.isin(need) == True]\n",
    "ph_loc = ph_loc[ph_loc.isin(['Leyte']) == True]\n",
    "ph_loc = ph_loc.reset_index(drop=True)\n",
    "ph_loc.head()"
   ],
   "metadata": {
    "collapsed": false,
    "pycharm": {
     "name": "#%%\n"
    }
   }
  },
  {
   "cell_type": "code",
   "execution_count": 30,
   "outputs": [
    {
     "data": {
      "text/plain": "                                                   Text Location  Sentiment\n0     sonshinenewsblast doe_ph nagdeklara ng price f...    Leyte          1\n1     death toll sa bagyong agatonph lumobo na sa 22...    Leyte         -2\n2     binawi ng national disaster risk reduction man...    Leyte         -2\n3     frontlinetonight plano ng comelec na magpatayo...    Leyte         -2\n4       brgypilar abuyog leyte agatonph abuyogneedshelp    Leyte          0\n...                                                 ...      ...        ...\n3386  warningmataas na ang tsansa na maging bagyo pr...    Leyte         -2\n3387  tandaan posible pa pong magbago ang forecast n...    Leyte         -2\n3388  kung sakali ang mga susunod na lokal na pangal...    Leyte          1\n3389  breaking mataas na ang tiyansang magkaroon ng ...    Leyte          1\n3390  bad news moderate 50 na ang tsansa na meron ma...    Leyte         -2\n\n[3391 rows x 3 columns]",
      "text/html": "<div>\n<style scoped>\n    .dataframe tbody tr th:only-of-type {\n        vertical-align: middle;\n    }\n\n    .dataframe tbody tr th {\n        vertical-align: top;\n    }\n\n    .dataframe thead th {\n        text-align: right;\n    }\n</style>\n<table border=\"1\" class=\"dataframe\">\n  <thead>\n    <tr style=\"text-align: right;\">\n      <th></th>\n      <th>Text</th>\n      <th>Location</th>\n      <th>Sentiment</th>\n    </tr>\n  </thead>\n  <tbody>\n    <tr>\n      <th>0</th>\n      <td>sonshinenewsblast doe_ph nagdeklara ng price f...</td>\n      <td>Leyte</td>\n      <td>1</td>\n    </tr>\n    <tr>\n      <th>1</th>\n      <td>death toll sa bagyong agatonph lumobo na sa 22...</td>\n      <td>Leyte</td>\n      <td>-2</td>\n    </tr>\n    <tr>\n      <th>2</th>\n      <td>binawi ng national disaster risk reduction man...</td>\n      <td>Leyte</td>\n      <td>-2</td>\n    </tr>\n    <tr>\n      <th>3</th>\n      <td>frontlinetonight plano ng comelec na magpatayo...</td>\n      <td>Leyte</td>\n      <td>-2</td>\n    </tr>\n    <tr>\n      <th>4</th>\n      <td>brgypilar abuyog leyte agatonph abuyogneedshelp</td>\n      <td>Leyte</td>\n      <td>0</td>\n    </tr>\n    <tr>\n      <th>...</th>\n      <td>...</td>\n      <td>...</td>\n      <td>...</td>\n    </tr>\n    <tr>\n      <th>3386</th>\n      <td>warningmataas na ang tsansa na maging bagyo pr...</td>\n      <td>Leyte</td>\n      <td>-2</td>\n    </tr>\n    <tr>\n      <th>3387</th>\n      <td>tandaan posible pa pong magbago ang forecast n...</td>\n      <td>Leyte</td>\n      <td>-2</td>\n    </tr>\n    <tr>\n      <th>3388</th>\n      <td>kung sakali ang mga susunod na lokal na pangal...</td>\n      <td>Leyte</td>\n      <td>1</td>\n    </tr>\n    <tr>\n      <th>3389</th>\n      <td>breaking mataas na ang tiyansang magkaroon ng ...</td>\n      <td>Leyte</td>\n      <td>1</td>\n    </tr>\n    <tr>\n      <th>3390</th>\n      <td>bad news moderate 50 na ang tsansa na meron ma...</td>\n      <td>Leyte</td>\n      <td>-2</td>\n    </tr>\n  </tbody>\n</table>\n<p>3391 rows × 3 columns</p>\n</div>"
     },
     "execution_count": 30,
     "metadata": {},
     "output_type": "execute_result"
    }
   ],
   "source": [
    "# NOT FINAL! RANDOM LOACTION ASSIGMENT\n",
    "# NOT ACTUAL SPATIAL ANALYSIS\n",
    "import json\n",
    "import numpy as np\n",
    "import pandas as pd\n",
    "import plotly.express as px\n",
    "import plotly.io as pio\n",
    "pio.renderers.default = 'browser'\n",
    "\n",
    "import random\n",
    "\n",
    "provinces = json.load(open(\"Datasets/Provinces.geojson\", \"r\"))\n",
    "id_map = {}\n",
    "for feature in provinces[\"features\"]:\n",
    "    feature[\"id\"] = feature[\"properties\"][\"ID_1\"]\n",
    "    id_map[feature[\"properties\"][\"NAME_1\"]] = feature[\"id\"]\n",
    "\n",
    "rand_loc = pd.DataFrame()\n",
    "\n",
    "rand = []\n",
    "for x in range(3391):\n",
    "    #loc = \"Leyte\"\n",
    "    loc = ph_loc[random.randint(0, ph_loc.shape[0] - 1)]\n",
    "    if not id_map.__contains__(loc):\n",
    "        loc= \"Tarlac\"\n",
    "    rand.append(loc)\n",
    "\n",
    "location_sentiment_df = pd.DataFrame({'Text':real_df['cleaned'],'Location':rand, 'Sentiment':test}).reset_index(drop=True)\n",
    "location_sentiment_df"
   ],
   "metadata": {
    "collapsed": false,
    "pycharm": {
     "name": "#%%\n"
    }
   }
  },
  {
   "cell_type": "code",
   "execution_count": 31,
   "id": "517c8542-5f40-4da3-b065-869219e09517",
   "metadata": {
    "pycharm": {
     "name": "#%%\n"
    }
   },
   "outputs": [],
   "source": [
    "location_sentiment_df = location_sentiment_df[['Location', 'Sentiment']]\n",
    "location_sentiment_df\n",
    "location_sentiment_df[\"id\"] = location_sentiment_df[\"Location\"].apply(lambda x: id_map[x])"
   ]
  },
  {
   "cell_type": "code",
   "execution_count": 32,
   "id": "0e686bb4-82f6-441e-869e-019d378e5870",
   "metadata": {
    "pycharm": {
     "name": "#%%\n"
    }
   },
   "outputs": [],
   "source": [
    "fig = px.choropleth(\n",
    "    location_sentiment_df,\n",
    "    locations=\"id\",\n",
    "    geojson=provinces,\n",
    "    color=\"Sentiment\",\n",
    "    title=\"PH\",\n",
    ")\n",
    "fig.update_geos(fitbounds=\"locations\", visible=False)\n",
    "fig.show()"
   ]
  },
  {
   "cell_type": "code",
   "execution_count": 33,
   "outputs": [
    {
     "data": {
      "text/plain": "[[124.669533, 10.485],\n [124.669144, 10.485],\n [124.668648, 10.48505],\n [124.668243, 10.48525],\n [124.667839, 10.48544],\n [124.667587, 10.48578],\n [124.667442, 10.48627],\n [124.667213, 10.48677],\n [124.667, 10.48731],\n [124.667023, 10.48757],\n [124.667053, 10.48787],\n [124.667282, 10.48839],\n [124.667587, 10.48883],\n [124.667976, 10.48916],\n [124.668373, 10.48945],\n [124.668709, 10.48972],\n [124.669037, 10.48998],\n [124.66938, 10.49023],\n [124.669724, 10.49053],\n [124.670097, 10.49078],\n [124.67054, 10.49095],\n [124.670967, 10.49112],\n [124.671341, 10.49133],\n [124.671707, 10.4915],\n [124.67205, 10.49167],\n [124.672394, 10.49183],\n [124.672768, 10.49202],\n [124.673172, 10.49223],\n [124.673599, 10.49249],\n [124.674057, 10.49273],\n [124.674606, 10.49278],\n [124.675163, 10.49278],\n [124.675667, 10.49282],\n [124.676117, 10.49302],\n [124.67662, 10.49306],\n [124.677116, 10.4931],\n [124.677567, 10.49319],\n [124.677994, 10.49283],\n [124.678322, 10.49254],\n [124.678383, 10.49249],\n [124.678688, 10.49214],\n [124.678917, 10.49178],\n [124.679077, 10.49143],\n [124.678947, 10.49112],\n [124.678673, 10.49084],\n [124.678253, 10.4906],\n [124.677689, 10.4904],\n [124.677177, 10.48996],\n [124.676689, 10.48945],\n [124.676178, 10.48899],\n [124.675621, 10.48866],\n [124.675133, 10.4883],\n [124.674744, 10.48791],\n [124.674454, 10.48751],\n [124.674187, 10.48711],\n [124.673927, 10.48673],\n [124.67363, 10.48642],\n [124.673248, 10.48618],\n [124.672821, 10.48602],\n [124.672401, 10.48583],\n [124.671967, 10.48561],\n [124.671463, 10.48548],\n [124.670952, 10.48531],\n [124.670387, 10.48523],\n [124.6698, 10.48505],\n [124.669533, 10.485]]"
     },
     "execution_count": 33,
     "metadata": {},
     "output_type": "execute_result"
    }
   ],
   "source": [
    "provinces[\"features\"][42][\"geometry\"][\"coordinates\"][2][0]"
   ],
   "metadata": {
    "collapsed": false,
    "pycharm": {
     "name": "#%%\n"
    }
   }
  },
  {
   "cell_type": "code",
   "execution_count": 34,
   "outputs": [
    {
     "data": {
      "text/plain": "     Location  Sentiment  id          coordinates\n0       Leyte          1  43  11.21679/125.047943\n1       Leyte         -2  43  11.21491/125.048729\n2       Leyte         -2  43  11.21769/125.046661\n3       Leyte         -2  43  11.21693/125.047081\n4       Leyte          0  43   11.21583/125.04715\n...       ...        ...  ..                  ...\n3386    Leyte         -2  43  11.21486/125.048477\n3387    Leyte         -2  43  11.21672/125.047989\n3388    Leyte          1  43  11.21755/125.047287\n3389    Leyte          1  43   11.21583/125.04715\n3390    Leyte         -2  43  11.21632/125.048187\n\n[3391 rows x 4 columns]",
      "text/html": "<div>\n<style scoped>\n    .dataframe tbody tr th:only-of-type {\n        vertical-align: middle;\n    }\n\n    .dataframe tbody tr th {\n        vertical-align: top;\n    }\n\n    .dataframe thead th {\n        text-align: right;\n    }\n</style>\n<table border=\"1\" class=\"dataframe\">\n  <thead>\n    <tr style=\"text-align: right;\">\n      <th></th>\n      <th>Location</th>\n      <th>Sentiment</th>\n      <th>id</th>\n      <th>coordinates</th>\n    </tr>\n  </thead>\n  <tbody>\n    <tr>\n      <th>0</th>\n      <td>Leyte</td>\n      <td>1</td>\n      <td>43</td>\n      <td>11.21679/125.047943</td>\n    </tr>\n    <tr>\n      <th>1</th>\n      <td>Leyte</td>\n      <td>-2</td>\n      <td>43</td>\n      <td>11.21491/125.048729</td>\n    </tr>\n    <tr>\n      <th>2</th>\n      <td>Leyte</td>\n      <td>-2</td>\n      <td>43</td>\n      <td>11.21769/125.046661</td>\n    </tr>\n    <tr>\n      <th>3</th>\n      <td>Leyte</td>\n      <td>-2</td>\n      <td>43</td>\n      <td>11.21693/125.047081</td>\n    </tr>\n    <tr>\n      <th>4</th>\n      <td>Leyte</td>\n      <td>0</td>\n      <td>43</td>\n      <td>11.21583/125.04715</td>\n    </tr>\n    <tr>\n      <th>...</th>\n      <td>...</td>\n      <td>...</td>\n      <td>...</td>\n      <td>...</td>\n    </tr>\n    <tr>\n      <th>3386</th>\n      <td>Leyte</td>\n      <td>-2</td>\n      <td>43</td>\n      <td>11.21486/125.048477</td>\n    </tr>\n    <tr>\n      <th>3387</th>\n      <td>Leyte</td>\n      <td>-2</td>\n      <td>43</td>\n      <td>11.21672/125.047989</td>\n    </tr>\n    <tr>\n      <th>3388</th>\n      <td>Leyte</td>\n      <td>1</td>\n      <td>43</td>\n      <td>11.21755/125.047287</td>\n    </tr>\n    <tr>\n      <th>3389</th>\n      <td>Leyte</td>\n      <td>1</td>\n      <td>43</td>\n      <td>11.21583/125.04715</td>\n    </tr>\n    <tr>\n      <th>3390</th>\n      <td>Leyte</td>\n      <td>-2</td>\n      <td>43</td>\n      <td>11.21632/125.048187</td>\n    </tr>\n  </tbody>\n</table>\n<p>3391 rows × 4 columns</p>\n</div>"
     },
     "execution_count": 34,
     "metadata": {},
     "output_type": "execute_result"
    }
   ],
   "source": [
    "provinces[\"features\"][0][\"geometry\"][\"coordinates\"][0]\n",
    "provinces[\"features\"][76][\"properties\"]\n",
    "\n",
    "location_sentiment_df\n",
    "def get_coords(location_id):\n",
    "    location = provinces[\"features\"][location_id - 1][\"geometry\"][\"coordinates\"][20][0]\n",
    "    #location = location[random.randint(0, len(location) - 1)] random.uniform(10.5, 75.5)\n",
    "    #long = random.uniform(location[0][0], location[int(len(location)/2)][0])\n",
    "    #lat = random.uniform(location[int(len(location)/2)][1], location[0][1])\n",
    "    location = location[random.randint(0,len(location) - 1)]\n",
    "    #location = [lat, long]\n",
    "    #return str(location[0]) + \"/\" + str(location[1])\n",
    "    return str(location[1]) + \"/\" + str(location[0])\n",
    "location_sentiment_df['coordinates'] = location_sentiment_df['id'].apply(get_coords)\n",
    "location_sentiment_df"
   ],
   "metadata": {
    "collapsed": false,
    "pycharm": {
     "name": "#%%\n"
    }
   }
  },
  {
   "cell_type": "code",
   "execution_count": 35,
   "outputs": [
    {
     "data": {
      "text/plain": "[[11.21679, 125.047943, 0.25],\n [11.21491, 125.048729, 1.0],\n [11.21769, 125.046661, 1.0],\n [11.21693, 125.047081, 1.0],\n [11.21583, 125.04715, 0.5],\n [11.21693, 125.047081, 1.0],\n [11.21679, 125.047943, 0.25],\n [11.21583, 125.04715, 0.5],\n [11.21659, 125.046661, 0.5],\n [11.21672, 125.047989, 1.0],\n [11.21659, 125.046661, 0.25],\n [11.21486, 125.048477, 0.25],\n [11.21632, 125.048187, 0.25],\n [11.21686, 125.046799, 1.0],\n [11.21672, 125.047989, 1.0],\n [11.21776, 125.046867, 1.0],\n [11.21734, 125.046837, 0.25],\n [11.21507, 125.048058, 1.0],\n [11.21723, 125.046898, 1.0],\n [11.21723, 125.046898, 1.0],\n [11.21493, 125.04882, 0.25],\n [11.21776, 125.046867, 0.25],\n [11.21491, 125.048729, 1.0],\n [11.21583, 125.04715, 1.0],\n [11.21723, 125.046898, 1.0],\n [11.21734, 125.046837, 0.25],\n [11.21659, 125.046661, 0.25],\n [11.21734, 125.046837, 0.5],\n [11.21507, 125.048058, 0.5],\n [11.21659, 125.046661, 0.5],\n [11.21679, 125.047943, 0.25],\n [11.21493, 125.04882, 1.0],\n [11.21679, 125.047943, 1.0],\n [11.21632, 125.048187, 1.0],\n [11.21755, 125.047287, 0.25],\n [11.21491, 125.048729, 1.0],\n [11.21659, 125.046661, 0.5],\n [11.21672, 125.047989, 0.0],\n [11.2175, 125.047333, 1.0],\n [11.21693, 125.047081, 1.0],\n [11.21632, 125.048187, 0.25],\n [11.21734, 125.046837, 1.0],\n [11.21686, 125.046799, 0.25],\n [11.21723, 125.046898, 0.25],\n [11.21776, 125.046867, 1.0],\n [11.21493, 125.04882, 0.25],\n [11.21769, 125.046661, 0.25],\n [11.21486, 125.048477, 0.5],\n [11.21541, 125.048683, 0.25],\n [11.21672, 125.047989, 1.0],\n [11.21491, 125.048729, 0.25],\n [11.21659, 125.046661, 1.0],\n [11.21723, 125.046898, 0.25],\n [11.21679, 125.047943, 0.0],\n [11.21486, 125.048477, 0.0],\n [11.21686, 125.046799, 1.0],\n [11.21769, 125.046661, 1.0],\n [11.21755, 125.047287, 0.25],\n [11.21491, 125.048729, 1.0],\n [11.21776, 125.046867, 0.5],\n [11.21583, 125.04715, 0.25],\n [11.2175, 125.047333, 0.25],\n [11.2175, 125.047333, 0.25],\n [11.21491, 125.048729, 0.25],\n [11.21755, 125.047287, 0.25],\n [11.21583, 125.04715, 0.25],\n [11.21672, 125.047989, 0.5],\n [11.2175, 125.047333, 1.0],\n [11.21776, 125.046867, 1.0],\n [11.21769, 125.046661, 1.0],\n [11.21693, 125.047081, 0.25],\n [11.21583, 125.04715, 0.0],\n [11.21723, 125.046898, 0.25],\n [11.21755, 125.047287, 1.0],\n [11.21486, 125.048477, 0.25],\n [11.21769, 125.046661, 0.0],\n [11.21672, 125.047989, 1.0],\n [11.21776, 125.046867, 0.5],\n [11.21679, 125.047943, 1.0],\n [11.21734, 125.046837, 1.0],\n [11.21755, 125.047287, 0.5],\n [11.21659, 125.046661, 0.0],\n [11.21491, 125.048729, 0.0],\n [11.21679, 125.047943, 0.25],\n [11.21723, 125.046898, 0.5],\n [11.21486, 125.048477, 0.25],\n [11.21769, 125.046661, 0.0],\n [11.21493, 125.04882, 0.25],\n [11.21583, 125.04715, 1.0],\n [11.21723, 125.046898, 1.0],\n [11.21723, 125.046898, 0.5],\n [11.21679, 125.047943, 0.25],\n [11.21493, 125.04882, 0.25],\n [11.21491, 125.048729, 0.5],\n [11.21507, 125.048058, 1.0],\n [11.21672, 125.047989, 1.0],\n [11.21493, 125.04882, 0.0],\n [11.21769, 125.046661, 1.0],\n [11.21769, 125.046661, 0.0],\n [11.21776, 125.046867, 0.5],\n [11.21583, 125.04715, 0.5],\n [11.21693, 125.047081, 0.5],\n [11.21693, 125.047081, 0.5],\n [11.2175, 125.047333, 0.5],\n [11.21486, 125.048477, 1.0],\n [11.21723, 125.046898, 0.5],\n [11.21686, 125.046799, 0.5],\n [11.21491, 125.048729, 1.0],\n [11.21679, 125.047943, 1.0],\n [11.21486, 125.048477, 0.5],\n [11.21686, 125.046799, 0.5],\n [11.21493, 125.04882, 1.0],\n [11.21583, 125.04715, 1.0],\n [11.21507, 125.048058, 0.0],\n [11.21755, 125.047287, 0.25],\n [11.21776, 125.046867, 0.25],\n [11.21541, 125.048683, 0.25],\n [11.21583, 125.04715, 1.0],\n [11.21734, 125.046837, 0.25],\n [11.21769, 125.046661, 1.0],\n [11.21659, 125.046661, 0.25],\n [11.21693, 125.047081, 1.0],\n [11.21734, 125.046837, 0.25],\n [11.21723, 125.046898, 0.0],\n [11.21769, 125.046661, 1.0],\n [11.21686, 125.046799, 1.0],\n [11.21659, 125.046661, 0.25],\n [11.21693, 125.047081, 0.0],\n [11.21659, 125.046661, 0.25],\n [11.21507, 125.048058, 0.0],\n [11.21723, 125.046898, 0.5],\n [11.21727, 125.046867, 0.25],\n [11.21734, 125.046837, 0.0],\n [11.21723, 125.046898, 0.25],\n [11.21723, 125.046898, 0.25],\n [11.21693, 125.047081, 0.5],\n [11.21679, 125.047943, 1.0],\n [11.21541, 125.048683, 0.25],\n [11.21491, 125.048729, 0.25],\n [11.21491, 125.048729, 0.5],\n [11.21491, 125.048729, 0.25],\n [11.21632, 125.048187, 1.0],\n [11.21672, 125.047989, 1.0],\n [11.21755, 125.047287, 0.25],\n [11.21541, 125.048683, 0.25],\n [11.21491, 125.048729, 1.0],\n [11.21491, 125.048729, 1.0],\n [11.21491, 125.048729, 1.0],\n [11.21493, 125.04882, 1.0],\n [11.21769, 125.046661, 0.25],\n [11.21493, 125.04882, 0.25],\n [11.21672, 125.047989, 0.25],\n [11.21507, 125.048058, 0.5],\n [11.21734, 125.046837, 0.25],\n [11.21491, 125.048729, 1.0],\n [11.21769, 125.046661, 1.0],\n [11.21727, 125.046867, 1.0],\n [11.21507, 125.048058, 0.0],\n [11.21486, 125.048477, 0.5],\n [11.21632, 125.048187, 1.0],\n [11.21493, 125.04882, 1.0],\n [11.21486, 125.048477, 0.25],\n [11.21734, 125.046837, 1.0],\n [11.21776, 125.046867, 0.5],\n [11.21672, 125.047989, 1.0],\n [11.21755, 125.047287, 1.0],\n [11.21541, 125.048683, 1.0],\n [11.21493, 125.04882, 1.0],\n [11.21632, 125.048187, 0.5],\n [11.21491, 125.048729, 0.0],\n [11.21769, 125.046661, 0.25],\n [11.21541, 125.048683, 0.25],\n [11.2175, 125.047333, 0.25],\n [11.21679, 125.047943, 0.25],\n [11.21723, 125.046898, 1.0],\n [11.21486, 125.048477, 1.0],\n [11.21632, 125.048187, 0.25],\n [11.21491, 125.048729, 1.0],\n [11.21493, 125.04882, 1.0],\n [11.21723, 125.046898, 1.0],\n [11.21672, 125.047989, 0.25],\n [11.2175, 125.047333, 1.0],\n [11.21672, 125.047989, 0.5],\n [11.21583, 125.04715, 0.25],\n [11.21632, 125.048187, 1.0],\n [11.21769, 125.046661, 0.0],\n [11.21723, 125.046898, 0.5],\n [11.21769, 125.046661, 0.5],\n [11.21769, 125.046661, 0.25],\n [11.21723, 125.046898, 1.0],\n [11.21541, 125.048683, 0.0],\n [11.21507, 125.048058, 0.25],\n [11.21755, 125.047287, 1.0],\n [11.21755, 125.047287, 0.25],\n [11.21632, 125.048187, 0.25],\n [11.21493, 125.04882, 0.5],\n [11.21686, 125.046799, 1.0],\n [11.21755, 125.047287, 0.25],\n [11.21491, 125.048729, 0.5],\n [11.21727, 125.046867, 1.0],\n [11.21541, 125.048683, 1.0],\n [11.21583, 125.04715, 1.0],\n [11.21493, 125.04882, 0.0],\n [11.21693, 125.047081, 0.25],\n [11.21769, 125.046661, 0.5],\n [11.21686, 125.046799, 1.0],\n [11.21491, 125.048729, 0.25],\n [11.21507, 125.048058, 0.25],\n [11.21769, 125.046661, 1.0],\n [11.21769, 125.046661, 1.0],\n [11.21734, 125.046837, 1.0],\n [11.21491, 125.048729, 0.5],\n [11.2175, 125.047333, 0.25],\n [11.21769, 125.046661, 1.0],\n [11.21693, 125.047081, 0.5],\n [11.21659, 125.046661, 1.0],\n [11.21776, 125.046867, 0.5],\n [11.21541, 125.048683, 1.0],\n [11.21755, 125.047287, 0.5],\n [11.21507, 125.048058, 0.0],\n [11.21686, 125.046799, 0.25],\n [11.2175, 125.047333, 1.0],\n [11.21541, 125.048683, 0.25],\n [11.21491, 125.048729, 0.25],\n [11.21672, 125.047989, 0.25],\n [11.21672, 125.047989, 1.0],\n [11.21491, 125.048729, 0.25],\n [11.21769, 125.046661, 1.0],\n [11.21686, 125.046799, 1.0],\n [11.21755, 125.047287, 0.25],\n [11.21769, 125.046661, 0.0],\n [11.21493, 125.04882, 0.5],\n [11.21734, 125.046837, 0.25],\n [11.21727, 125.046867, 0.25],\n [11.21755, 125.047287, 0.0],\n [11.21723, 125.046898, 1.0],\n [11.21776, 125.046867, 0.5],\n [11.21686, 125.046799, 0.25],\n [11.21723, 125.046898, 0.5],\n [11.21727, 125.046867, 0.25],\n [11.21727, 125.046867, 1.0],\n [11.21632, 125.048187, 0.25],\n [11.21491, 125.048729, 0.5],\n [11.21723, 125.046898, 1.0],\n [11.21541, 125.048683, 1.0],\n [11.21583, 125.04715, 1.0],\n [11.21493, 125.04882, 1.0],\n [11.21486, 125.048477, 0.5],\n [11.21693, 125.047081, 0.0],\n [11.21755, 125.047287, 0.25],\n [11.21491, 125.048729, 1.0],\n [11.21507, 125.048058, 1.0],\n [11.21583, 125.04715, 0.25],\n [11.21583, 125.04715, 0.25],\n [11.21507, 125.048058, 0.25],\n [11.21727, 125.046867, 0.25],\n [11.21686, 125.046799, 0.0],\n [11.21659, 125.046661, 0.0],\n [11.21659, 125.046661, 0.0],\n [11.21686, 125.046799, 0.0],\n [11.21541, 125.048683, 0.25],\n [11.21541, 125.048683, 0.0],\n [11.21679, 125.047943, 0.5],\n [11.21776, 125.046867, 0.25],\n [11.21723, 125.046898, 1.0],\n [11.21493, 125.04882, 1.0],\n [11.21693, 125.047081, 1.0],\n [11.21493, 125.04882, 1.0],\n [11.21541, 125.048683, 0.5],\n [11.21507, 125.048058, 0.5],\n [11.21755, 125.047287, 1.0],\n [11.21769, 125.046661, 1.0],\n [11.21491, 125.048729, 0.5],\n [11.21734, 125.046837, 0.25],\n [11.21491, 125.048729, 0.5],\n [11.21486, 125.048477, 0.5],\n [11.21679, 125.047943, 0.25],\n [11.21679, 125.047943, 0.0],\n [11.21727, 125.046867, 1.0],\n [11.21493, 125.04882, 0.5],\n [11.21659, 125.046661, 0.25],\n [11.21493, 125.04882, 0.25],\n [11.21507, 125.048058, 0.5],\n [11.21693, 125.047081, 0.25],\n [11.21493, 125.04882, 0.5],\n [11.21755, 125.047287, 0.0],\n [11.21755, 125.047287, 0.25],\n [11.21755, 125.047287, 0.25],\n [11.21659, 125.046661, 0.5],\n [11.21491, 125.048729, 0.5],\n [11.21541, 125.048683, 0.25],\n [11.21659, 125.046661, 0.25],\n [11.21693, 125.047081, 1.0],\n [11.21672, 125.047989, 0.25],\n [11.2175, 125.047333, 0.0],\n [11.21693, 125.047081, 0.5],\n [11.21486, 125.048477, 0.5],\n [11.21632, 125.048187, 0.25],\n [11.21686, 125.046799, 0.25],\n [11.21755, 125.047287, 0.5],\n [11.21769, 125.046661, 0.25],\n [11.21632, 125.048187, 0.5],\n [11.21672, 125.047989, 0.25],\n [11.21755, 125.047287, 0.25],\n [11.21659, 125.046661, 0.5],\n [11.21769, 125.046661, 0.0],\n [11.21493, 125.04882, 1.0],\n [11.21491, 125.048729, 1.0],\n [11.21686, 125.046799, 1.0],\n [11.21693, 125.047081, 0.5],\n [11.21734, 125.046837, 0.0],\n [11.21541, 125.048683, 1.0],\n [11.21541, 125.048683, 1.0],\n [11.21672, 125.047989, 0.5],\n [11.21734, 125.046837, 0.25],\n [11.21659, 125.046661, 0.25],\n [11.21679, 125.047943, 0.5],\n [11.21769, 125.046661, 0.25],\n [11.21507, 125.048058, 1.0],\n [11.21672, 125.047989, 0.5],\n [11.21755, 125.047287, 1.0],\n [11.2175, 125.047333, 0.25],\n [11.21723, 125.046898, 1.0],\n [11.21686, 125.046799, 0.25],\n [11.21659, 125.046661, 0.0],\n [11.21583, 125.04715, 0.5],\n [11.21679, 125.047943, 0.25],\n [11.21693, 125.047081, 0.25],\n [11.21693, 125.047081, 0.0],\n [11.21507, 125.048058, 0.25],\n [11.21679, 125.047943, 0.25],\n [11.21776, 125.046867, 0.0],\n [11.21632, 125.048187, 1.0],\n [11.21632, 125.048187, 1.0],\n [11.2175, 125.047333, 0.25],\n [11.21583, 125.04715, 0.25],\n [11.21679, 125.047943, 0.25],\n [11.21727, 125.046867, 1.0],\n [11.21541, 125.048683, 0.5],\n [11.21583, 125.04715, 0.5],\n [11.21723, 125.046898, 1.0],\n [11.21493, 125.04882, 0.25],\n [11.21491, 125.048729, 1.0],\n [11.21776, 125.046867, 0.25],\n [11.21679, 125.047943, 1.0],\n [11.21507, 125.048058, 0.0],\n [11.21632, 125.048187, 0.25],\n [11.21693, 125.047081, 0.25],\n [11.21583, 125.04715, 0.5],\n [11.21672, 125.047989, 1.0],\n [11.21734, 125.046837, 1.0],\n [11.21693, 125.047081, 0.5],\n [11.21491, 125.048729, 1.0],\n [11.21672, 125.047989, 0.0],\n [11.21659, 125.046661, 0.25],\n [11.21486, 125.048477, 0.0],\n [11.21776, 125.046867, 0.0],\n [11.21541, 125.048683, 0.0],\n [11.21632, 125.048187, 0.25],\n [11.21486, 125.048477, 0.5],\n [11.21493, 125.04882, 0.25],\n [11.21491, 125.048729, 0.25],\n [11.21723, 125.046898, 1.0],\n [11.21727, 125.046867, 0.0],\n [11.21491, 125.048729, 1.0],\n [11.21491, 125.048729, 0.5],\n [11.21776, 125.046867, 0.5],\n [11.21659, 125.046661, 0.0],\n [11.21493, 125.04882, 1.0],\n [11.21632, 125.048187, 0.25],\n [11.21776, 125.046867, 0.5],\n [11.21723, 125.046898, 0.5],\n [11.21491, 125.048729, 0.25],\n [11.21693, 125.047081, 0.25],\n [11.21769, 125.046661, 0.25],\n [11.21659, 125.046661, 0.25],\n [11.21632, 125.048187, 0.0],\n [11.21583, 125.04715, 0.25],\n [11.21679, 125.047943, 1.0],\n [11.21583, 125.04715, 0.25],\n [11.21727, 125.046867, 1.0],\n [11.21583, 125.04715, 0.25],\n [11.21541, 125.048683, 0.25],\n [11.21632, 125.048187, 0.0],\n [11.21734, 125.046837, 0.25],\n [11.21632, 125.048187, 0.25],\n [11.21491, 125.048729, 0.25],\n [11.21491, 125.048729, 0.5],\n [11.21776, 125.046867, 1.0],\n [11.21727, 125.046867, 0.5],\n [11.21679, 125.047943, 0.0],\n [11.21583, 125.04715, 1.0],\n [11.21672, 125.047989, 0.5],\n [11.21693, 125.047081, 0.5],\n [11.21491, 125.048729, 1.0],\n [11.2175, 125.047333, 0.0],\n [11.21776, 125.046867, 1.0],\n [11.21583, 125.04715, 0.5],\n [11.21491, 125.048729, 0.5],\n [11.21723, 125.046898, 0.5],\n [11.21734, 125.046837, 0.0],\n [11.21507, 125.048058, 0.0],\n [11.2175, 125.047333, 0.5],\n [11.21734, 125.046837, 0.25],\n [11.21541, 125.048683, 0.5],\n [11.21632, 125.048187, 0.25],\n [11.2175, 125.047333, 0.25],\n [11.21734, 125.046837, 1.0],\n [11.21583, 125.04715, 0.25],\n [11.21693, 125.047081, 1.0],\n [11.21541, 125.048683, 0.0],\n [11.21486, 125.048477, 0.5],\n [11.21583, 125.04715, 0.25],\n [11.21491, 125.048729, 0.25],\n [11.21491, 125.048729, 0.25],\n [11.21493, 125.04882, 1.0],\n [11.21723, 125.046898, 0.5],\n [11.21776, 125.046867, 0.0],\n [11.21693, 125.047081, 1.0],\n [11.21493, 125.04882, 0.5],\n [11.21734, 125.046837, 0.5],\n [11.21734, 125.046837, 1.0],\n [11.21686, 125.046799, 0.5],\n [11.21734, 125.046837, 0.0],\n [11.21755, 125.047287, 1.0],\n [11.21693, 125.047081, 0.0],\n [11.21693, 125.047081, 0.25],\n [11.21583, 125.04715, 0.25],\n [11.21583, 125.04715, 0.25],\n [11.21541, 125.048683, 1.0],\n [11.21755, 125.047287, 0.25],\n [11.21659, 125.046661, 0.25],\n [11.21727, 125.046867, 0.25],\n [11.2175, 125.047333, 0.5],\n [11.21693, 125.047081, 0.25],\n [11.21583, 125.04715, 0.5],\n [11.21541, 125.048683, 0.5],\n [11.2175, 125.047333, 0.25],\n [11.21541, 125.048683, 1.0],\n [11.21679, 125.047943, 0.5],\n [11.2175, 125.047333, 0.25],\n [11.21693, 125.047081, 0.5],\n [11.21776, 125.046867, 1.0],\n [11.21583, 125.04715, 0.5],\n [11.21659, 125.046661, 0.5],\n [11.2175, 125.047333, 0.5],\n [11.21659, 125.046661, 1.0],\n [11.21493, 125.04882, 1.0],\n [11.21776, 125.046867, 0.5],\n [11.21507, 125.048058, 1.0],\n [11.21755, 125.047287, 0.5],\n [11.21727, 125.046867, 0.0],\n [11.21686, 125.046799, 0.5],\n [11.21491, 125.048729, 0.5],\n [11.21776, 125.046867, 0.5],\n [11.21727, 125.046867, 0.0],\n [11.21493, 125.04882, 0.5],\n [11.21727, 125.046867, 0.25],\n [11.21493, 125.04882, 1.0],\n [11.21583, 125.04715, 0.0],\n [11.21632, 125.048187, 0.5],\n [11.21583, 125.04715, 0.0],\n [11.21507, 125.048058, 1.0],\n [11.21679, 125.047943, 0.5],\n [11.21493, 125.04882, 1.0],\n [11.21491, 125.048729, 0.25],\n [11.21493, 125.04882, 1.0],\n [11.21583, 125.04715, 1.0],\n [11.21672, 125.047989, 0.25],\n [11.21727, 125.046867, 0.5],\n [11.21723, 125.046898, 0.25],\n [11.21507, 125.048058, 0.5],\n [11.21693, 125.047081, 1.0],\n [11.21541, 125.048683, 0.5],\n [11.21723, 125.046898, 0.25],\n [11.21659, 125.046661, 0.5],\n [11.21686, 125.046799, 0.5],\n [11.2175, 125.047333, 0.25],\n [11.21723, 125.046898, 0.25],\n [11.21672, 125.047989, 1.0],\n [11.21693, 125.047081, 1.0],\n [11.21659, 125.046661, 0.5],\n [11.21583, 125.04715, 0.0],\n [11.21491, 125.048729, 0.0],\n [11.2175, 125.047333, 0.25],\n [11.21693, 125.047081, 1.0],\n [11.21491, 125.048729, 1.0],\n [11.21632, 125.048187, 0.25],\n [11.21541, 125.048683, 1.0],\n [11.21723, 125.046898, 0.25],\n [11.21583, 125.04715, 1.0],\n [11.21632, 125.048187, 0.25],\n [11.2175, 125.047333, 0.25],\n [11.2175, 125.047333, 0.25],\n [11.21659, 125.046661, 1.0],\n [11.21672, 125.047989, 1.0],\n [11.21507, 125.048058, 0.25],\n [11.2175, 125.047333, 0.25],\n [11.21672, 125.047989, 0.25],\n [11.21659, 125.046661, 0.0],\n [11.2175, 125.047333, 0.25],\n [11.21493, 125.04882, 0.0],\n [11.21493, 125.04882, 0.0],\n [11.21693, 125.047081, 1.0],\n [11.2175, 125.047333, 0.25],\n [11.21679, 125.047943, 1.0],\n [11.21491, 125.048729, 1.0],\n [11.21541, 125.048683, 0.25],\n [11.21507, 125.048058, 0.5],\n [11.21723, 125.046898, 0.25],\n [11.21679, 125.047943, 0.0],\n [11.21491, 125.048729, 0.25],\n [11.21659, 125.046661, 0.25],\n [11.2175, 125.047333, 0.5],\n [11.2175, 125.047333, 0.5],\n [11.21486, 125.048477, 0.0],\n [11.21755, 125.047287, 1.0],\n [11.21686, 125.046799, 1.0],\n [11.21632, 125.048187, 0.0],\n [11.21632, 125.048187, 1.0],\n [11.21491, 125.048729, 0.25],\n [11.21776, 125.046867, 0.0],\n [11.21632, 125.048187, 1.0],\n [11.21486, 125.048477, 0.0],\n [11.21755, 125.047287, 0.0],\n [11.2175, 125.047333, 0.25],\n [11.21491, 125.048729, 0.25],\n [11.21672, 125.047989, 1.0],\n [11.21776, 125.046867, 0.0],\n [11.21659, 125.046661, 0.0],\n [11.21659, 125.046661, 1.0],\n [11.21659, 125.046661, 0.25],\n [11.21776, 125.046867, 1.0],\n [11.21541, 125.048683, 0.25],\n [11.21507, 125.048058, 1.0],\n [11.21755, 125.047287, 1.0],\n [11.21541, 125.048683, 0.5],\n [11.21541, 125.048683, 0.5],\n [11.21693, 125.047081, 1.0],\n [11.21493, 125.04882, 1.0],\n [11.21507, 125.048058, 1.0],\n [11.21693, 125.047081, 0.5],\n [11.21493, 125.04882, 0.0],\n [11.21541, 125.048683, 1.0],\n [11.21686, 125.046799, 0.0],\n [11.21727, 125.046867, 0.25],\n [11.21755, 125.047287, 1.0],\n [11.21693, 125.047081, 0.25],\n [11.21723, 125.046898, 0.5],\n [11.21507, 125.048058, 0.5],\n [11.21507, 125.048058, 0.0],\n [11.21583, 125.04715, 0.0],\n [11.21727, 125.046867, 0.25],\n [11.21727, 125.046867, 0.0],\n [11.21776, 125.046867, 0.5],\n [11.21493, 125.04882, 1.0],\n [11.21693, 125.047081, 0.25],\n [11.21686, 125.046799, 0.25],\n [11.21583, 125.04715, 1.0],\n [11.21769, 125.046661, 0.25],\n [11.21486, 125.048477, 0.0],\n [11.21632, 125.048187, 0.5],\n [11.21693, 125.047081, 0.25],\n [11.21659, 125.046661, 0.25],\n [11.21727, 125.046867, 0.25],\n [11.21734, 125.046837, 0.5],\n [11.21672, 125.047989, 0.5],\n [11.21776, 125.046867, 0.25],\n [11.21507, 125.048058, 0.25],\n [11.21583, 125.04715, 0.0],\n [11.21693, 125.047081, 1.0],\n [11.21491, 125.048729, 0.0],\n [11.2175, 125.047333, 1.0],\n [11.21659, 125.046661, 0.0],\n [11.21686, 125.046799, 0.5],\n [11.21491, 125.048729, 0.0],\n [11.21583, 125.04715, 1.0],\n [11.21686, 125.046799, 0.5],\n [11.21632, 125.048187, 1.0],\n [11.21491, 125.048729, 0.5],\n [11.21672, 125.047989, 1.0],\n [11.21686, 125.046799, 1.0],\n [11.21727, 125.046867, 0.0],\n [11.21491, 125.048729, 0.0],\n [11.21686, 125.046799, 0.25],\n [11.21493, 125.04882, 0.25],\n [11.21686, 125.046799, 0.25],\n [11.21693, 125.047081, 0.5],\n [11.21659, 125.046661, 0.5],\n [11.21755, 125.047287, 0.25],\n [11.21723, 125.046898, 0.25],\n [11.21723, 125.046898, 0.0],\n [11.21493, 125.04882, 0.25],\n [11.21541, 125.048683, 0.5],\n [11.21491, 125.048729, 1.0],\n [11.21493, 125.04882, 1.0],\n [11.21672, 125.047989, 0.5],\n [11.21693, 125.047081, 0.5],\n [11.21491, 125.048729, 0.0],\n [11.21686, 125.046799, 0.25],\n [11.21493, 125.04882, 0.0],\n [11.21507, 125.048058, 0.25],\n [11.21672, 125.047989, 0.5],\n [11.21776, 125.046867, 0.25],\n [11.21632, 125.048187, 0.5],\n [11.21776, 125.046867, 0.25],\n [11.21755, 125.047287, 0.0],\n [11.21491, 125.048729, 0.25],\n [11.21659, 125.046661, 0.5],\n [11.21679, 125.047943, 0.5],\n [11.21632, 125.048187, 0.25],\n [11.21693, 125.047081, 0.0],\n [11.21679, 125.047943, 0.5],\n [11.21769, 125.046661, 0.25],\n [11.21541, 125.048683, 1.0],\n [11.21769, 125.046661, 1.0],\n [11.21659, 125.046661, 1.0],\n [11.21632, 125.048187, 0.0],\n [11.21755, 125.047287, 1.0],\n [11.21776, 125.046867, 0.25],\n [11.21776, 125.046867, 0.0],\n [11.21493, 125.04882, 0.5],\n [11.21541, 125.048683, 0.25],\n [11.21755, 125.047287, 1.0],\n [11.21541, 125.048683, 1.0],\n [11.21686, 125.046799, 0.5],\n [11.21583, 125.04715, 1.0],\n [11.21693, 125.047081, 0.25],\n [11.21727, 125.046867, 0.25],\n [11.21734, 125.046837, 0.0],\n [11.21776, 125.046867, 0.25],\n [11.21686, 125.046799, 1.0],\n [11.21755, 125.047287, 1.0],\n [11.21507, 125.048058, 0.5],\n [11.21491, 125.048729, 0.25],\n [11.21723, 125.046898, 0.0],\n [11.2175, 125.047333, 0.25],\n [11.21755, 125.047287, 1.0],\n [11.2175, 125.047333, 0.25],\n [11.21734, 125.046837, 1.0],\n [11.21776, 125.046867, 0.5],\n [11.21723, 125.046898, 0.5],\n [11.21507, 125.048058, 0.5],\n [11.21693, 125.047081, 0.5],\n [11.21769, 125.046661, 1.0],\n [11.21659, 125.046661, 0.25],\n [11.21632, 125.048187, 0.25],\n [11.2175, 125.047333, 0.25],\n [11.21583, 125.04715, 0.5],\n [11.21755, 125.047287, 0.5],\n [11.21493, 125.04882, 0.0],\n [11.21632, 125.048187, 0.0],\n [11.21755, 125.047287, 0.5],\n [11.21769, 125.046661, 0.0],\n [11.2175, 125.047333, 1.0],\n [11.21734, 125.046837, 1.0],\n [11.2175, 125.047333, 0.5],\n [11.21727, 125.046867, 0.5],\n [11.21727, 125.046867, 0.25],\n [11.21672, 125.047989, 1.0],\n [11.21734, 125.046837, 0.5],\n [11.21632, 125.048187, 1.0],\n [11.21734, 125.046837, 1.0],\n [11.21686, 125.046799, 0.25],\n [11.21769, 125.046661, 0.0],\n [11.21507, 125.048058, 0.25],\n [11.21491, 125.048729, 0.0],\n [11.21486, 125.048477, 0.25],\n [11.21755, 125.047287, 0.5],\n [11.21693, 125.047081, 0.0],\n [11.21659, 125.046661, 0.25],\n [11.21659, 125.046661, 0.25],\n [11.21734, 125.046837, 1.0],\n [11.21583, 125.04715, 1.0],\n [11.21686, 125.046799, 1.0],\n [11.21491, 125.048729, 0.25],\n [11.21769, 125.046661, 1.0],\n [11.21723, 125.046898, 1.0],\n [11.21632, 125.048187, 1.0],\n [11.21659, 125.046661, 0.5],\n [11.21723, 125.046898, 0.5],\n [11.21486, 125.048477, 1.0],\n [11.21486, 125.048477, 1.0],\n [11.21727, 125.046867, 1.0],\n [11.21734, 125.046837, 1.0],\n [11.21583, 125.04715, 0.25],\n [11.21659, 125.046661, 0.0],\n [11.21723, 125.046898, 0.0],\n [11.21776, 125.046867, 0.25],\n [11.21583, 125.04715, 0.0],\n [11.21672, 125.047989, 1.0],\n [11.21507, 125.048058, 0.25],\n [11.21491, 125.048729, 1.0],\n [11.21659, 125.046661, 0.25],\n [11.21486, 125.048477, 0.25],\n [11.21727, 125.046867, 0.25],\n [11.21769, 125.046661, 0.25],\n [11.21686, 125.046799, 0.25],\n [11.21727, 125.046867, 0.25],\n [11.21727, 125.046867, 1.0],\n [11.21659, 125.046661, 0.25],\n [11.21583, 125.04715, 0.5],\n [11.21686, 125.046799, 0.0],\n [11.21755, 125.047287, 0.25],\n [11.21727, 125.046867, 0.5],\n [11.21727, 125.046867, 1.0],\n [11.21659, 125.046661, 0.25],\n [11.21693, 125.047081, 0.5],\n [11.21491, 125.048729, 0.25],\n [11.21693, 125.047081, 0.25],\n [11.21769, 125.046661, 1.0],\n [11.21723, 125.046898, 0.0],\n [11.21679, 125.047943, 0.5],\n [11.21491, 125.048729, 0.5],\n [11.21734, 125.046837, 0.25],\n [11.21632, 125.048187, 0.25],\n [11.21693, 125.047081, 1.0],\n [11.21755, 125.047287, 1.0],\n [11.21693, 125.047081, 0.0],\n [11.21734, 125.046837, 0.0],\n [11.21693, 125.047081, 0.5],\n [11.21727, 125.046867, 0.5],\n [11.21723, 125.046898, 0.0],\n [11.21734, 125.046837, 0.5],\n [11.21734, 125.046837, 0.0],\n [11.2175, 125.047333, 0.0],\n [11.21672, 125.047989, 0.5],\n [11.21491, 125.048729, 1.0],\n [11.21507, 125.048058, 0.25],\n [11.21727, 125.046867, 0.5],\n [11.21493, 125.04882, 0.25],\n [11.21693, 125.047081, 0.0],\n [11.21486, 125.048477, 0.0],\n [11.21659, 125.046661, 0.5],\n [11.21734, 125.046837, 0.25],\n [11.21632, 125.048187, 0.25],\n [11.21776, 125.046867, 0.25],\n [11.21693, 125.047081, 0.25],\n [11.21755, 125.047287, 0.0],\n [11.21632, 125.048187, 0.25],\n [11.2175, 125.047333, 0.5],\n [11.21493, 125.04882, 0.5],\n [11.21493, 125.04882, 0.25],\n [11.21734, 125.046837, 0.25],\n [11.21632, 125.048187, 0.5],\n [11.21693, 125.047081, 0.25],\n [11.21755, 125.047287, 0.25],\n [11.21693, 125.047081, 0.5],\n [11.21679, 125.047943, 0.25],\n [11.21486, 125.048477, 0.0],\n [11.21769, 125.046661, 0.5],\n [11.21723, 125.046898, 0.5],\n [11.21769, 125.046661, 0.0],\n [11.21491, 125.048729, 0.25],\n [11.21679, 125.047943, 0.0],\n [11.21583, 125.04715, 0.0],\n [11.21769, 125.046661, 0.0],\n [11.21723, 125.046898, 0.25],\n [11.21723, 125.046898, 1.0],\n [11.21755, 125.047287, 0.5],\n [11.21727, 125.046867, 0.0],\n [11.21693, 125.047081, 0.25],\n [11.21693, 125.047081, 0.0],\n [11.21727, 125.046867, 0.25],\n [11.21491, 125.048729, 0.25],\n [11.21723, 125.046898, 0.5],\n [11.21755, 125.047287, 0.0],\n [11.21486, 125.048477, 0.5],\n [11.21486, 125.048477, 0.5],\n [11.21493, 125.04882, 0.25],\n [11.21493, 125.04882, 0.25],\n [11.21486, 125.048477, 0.5],\n [11.21632, 125.048187, 0.5],\n [11.21776, 125.046867, 0.0],\n [11.21693, 125.047081, 0.25],\n [11.21491, 125.048729, 0.25],\n [11.21693, 125.047081, 1.0],\n [11.21583, 125.04715, 0.0],\n [11.21686, 125.046799, 0.25],\n [11.21693, 125.047081, 0.25],\n [11.21734, 125.046837, 0.25],\n [11.21723, 125.046898, 0.5],\n [11.21693, 125.047081, 0.5],\n [11.21632, 125.048187, 0.0],\n [11.21727, 125.046867, 0.25],\n [11.21734, 125.046837, 1.0],\n [11.21493, 125.04882, 0.5],\n [11.21693, 125.047081, 0.25],\n [11.21486, 125.048477, 0.25],\n [11.21686, 125.046799, 0.25],\n [11.21583, 125.04715, 0.5],\n [11.21672, 125.047989, 1.0],\n [11.21659, 125.046661, 0.25],\n [11.21679, 125.047943, 0.0],\n [11.21491, 125.048729, 0.25],\n [11.21632, 125.048187, 0.0],\n [11.21776, 125.046867, 0.0],\n [11.21632, 125.048187, 1.0],\n [11.21541, 125.048683, 0.25],\n [11.21727, 125.046867, 0.25],\n [11.21672, 125.047989, 0.25],\n [11.21491, 125.048729, 0.5],\n [11.21491, 125.048729, 0.25],\n [11.21491, 125.048729, 0.25],\n [11.21659, 125.046661, 1.0],\n [11.21541, 125.048683, 1.0],\n [11.21493, 125.04882, 0.5],\n [11.21734, 125.046837, 0.5],\n [11.21486, 125.048477, 0.25],\n [11.21659, 125.046661, 0.0],\n [11.21734, 125.046837, 0.5],\n [11.2175, 125.047333, 0.5],\n [11.21659, 125.046661, 0.0],\n [11.21672, 125.047989, 0.25],\n [11.21776, 125.046867, 0.25],\n [11.21491, 125.048729, 0.25],\n [11.21769, 125.046661, 0.0],\n [11.21486, 125.048477, 0.25],\n [11.21755, 125.047287, 0.25],\n [11.21734, 125.046837, 1.0],\n [11.21755, 125.047287, 0.25],\n [11.21679, 125.047943, 0.25],\n [11.21583, 125.04715, 0.5],\n [11.21769, 125.046661, 0.5],\n [11.21486, 125.048477, 0.25],\n [11.21632, 125.048187, 1.0],\n [11.21541, 125.048683, 0.25],\n [11.21583, 125.04715, 0.0],\n [11.21723, 125.046898, 1.0],\n [11.21723, 125.046898, 0.25],\n [11.21755, 125.047287, 0.0],\n [11.21686, 125.046799, 0.5],\n [11.21776, 125.046867, 0.0],\n [11.21491, 125.048729, 0.25],\n [11.21679, 125.047943, 1.0],\n [11.21583, 125.04715, 0.25],\n [11.21541, 125.048683, 0.25],\n [11.21541, 125.048683, 0.25],\n [11.21693, 125.047081, 0.5],\n [11.21727, 125.046867, 1.0],\n [11.21507, 125.048058, 0.5],\n [11.21686, 125.046799, 0.5],\n [11.21632, 125.048187, 0.5],\n [11.21491, 125.048729, 0.25],\n [11.21723, 125.046898, 1.0],\n [11.21491, 125.048729, 1.0],\n [11.21507, 125.048058, 1.0],\n [11.21693, 125.047081, 0.5],\n [11.21632, 125.048187, 0.5],\n [11.21693, 125.047081, 0.25],\n [11.21776, 125.046867, 1.0],\n [11.21693, 125.047081, 0.0],\n [11.21491, 125.048729, 0.0],\n [11.21686, 125.046799, 1.0],\n [11.21507, 125.048058, 0.0],\n [11.21486, 125.048477, 0.5],\n [11.2175, 125.047333, 1.0],\n [11.21686, 125.046799, 0.5],\n [11.2175, 125.047333, 1.0],\n [11.21734, 125.046837, 1.0],\n [11.21755, 125.047287, 0.25],\n [11.21541, 125.048683, 0.5],\n [11.21491, 125.048729, 0.5],\n [11.21727, 125.046867, 0.5],\n [11.21769, 125.046661, 0.5],\n [11.21541, 125.048683, 0.0],\n [11.21693, 125.047081, 1.0],\n [11.21672, 125.047989, 0.5],\n [11.21693, 125.047081, 0.0],\n [11.21755, 125.047287, 0.25],\n [11.21734, 125.046837, 0.0],\n [11.2175, 125.047333, 0.25],\n [11.21507, 125.048058, 0.25],\n [11.21493, 125.04882, 0.25],\n [11.21776, 125.046867, 0.25],\n [11.21583, 125.04715, 0.25],\n [11.21723, 125.046898, 1.0],\n [11.21486, 125.048477, 0.25],\n [11.21507, 125.048058, 0.25],\n [11.21491, 125.048729, 0.5],\n [11.21776, 125.046867, 1.0],\n [11.21686, 125.046799, 0.5],\n [11.21541, 125.048683, 0.25],\n [11.21776, 125.046867, 0.5],\n [11.21776, 125.046867, 0.5],\n [11.21734, 125.046837, 0.25],\n [11.21541, 125.048683, 0.25],\n [11.21491, 125.048729, 1.0],\n [11.21659, 125.046661, 0.25],\n [11.21686, 125.046799, 0.25],\n [11.21723, 125.046898, 0.25],\n [11.21659, 125.046661, 0.5],\n [11.21507, 125.048058, 0.25],\n [11.21486, 125.048477, 0.25],\n [11.21491, 125.048729, 0.5],\n [11.2175, 125.047333, 0.0],\n [11.21734, 125.046837, 0.25],\n [11.21686, 125.046799, 1.0],\n [11.21776, 125.046867, 1.0],\n [11.21679, 125.047943, 0.5],\n [11.2175, 125.047333, 0.25],\n [11.21723, 125.046898, 0.25],\n [11.21776, 125.046867, 0.0],\n [11.21493, 125.04882, 0.25],\n [11.21755, 125.047287, 0.25],\n [11.21491, 125.048729, 0.25],\n [11.21769, 125.046661, 0.5],\n [11.21583, 125.04715, 0.25],\n [11.21755, 125.047287, 0.5],\n [11.21679, 125.047943, 0.5],\n [11.21493, 125.04882, 0.25],\n [11.2175, 125.047333, 0.0],\n [11.21723, 125.046898, 0.5],\n [11.21693, 125.047081, 0.25],\n [11.21493, 125.04882, 0.25],\n [11.21672, 125.047989, 0.25],\n [11.21493, 125.04882, 0.0],\n [11.2175, 125.047333, 0.0],\n [11.21493, 125.04882, 0.25],\n [11.21686, 125.046799, 0.25],\n [11.21659, 125.046661, 0.25],\n [11.21507, 125.048058, 0.25],\n [11.21672, 125.047989, 1.0],\n [11.21541, 125.048683, 0.5],\n [11.21491, 125.048729, 0.0],\n [11.21769, 125.046661, 1.0],\n [11.21486, 125.048477, 0.0],\n [11.21723, 125.046898, 1.0],\n [11.21491, 125.048729, 0.25],\n [11.21541, 125.048683, 0.25],\n [11.21507, 125.048058, 0.25],\n [11.21672, 125.047989, 0.25],\n [11.2175, 125.047333, 0.25],\n [11.21491, 125.048729, 0.5],\n [11.21727, 125.046867, 0.25],\n [11.21507, 125.048058, 0.25],\n [11.21672, 125.047989, 0.25],\n [11.21541, 125.048683, 0.5],\n [11.21486, 125.048477, 0.0],\n [11.21769, 125.046661, 1.0],\n [11.21776, 125.046867, 0.25],\n [11.21491, 125.048729, 0.25],\n [11.21672, 125.047989, 0.25],\n [11.21632, 125.048187, 0.5],\n [11.21507, 125.048058, 1.0],\n [11.21776, 125.046867, 0.5],\n [11.21776, 125.046867, 0.25],\n [11.21693, 125.047081, 0.25],\n [11.21632, 125.048187, 1.0],\n [11.21493, 125.04882, 0.25],\n [11.21632, 125.048187, 0.25],\n [11.21672, 125.047989, 0.25],\n [11.21776, 125.046867, 0.0],\n [11.21693, 125.047081, 0.25],\n [11.21727, 125.046867, 0.25],\n [11.21723, 125.046898, 0.0],\n [11.21755, 125.047287, 0.5],\n [11.21693, 125.047081, 0.25],\n [11.21491, 125.048729, 0.25],\n [11.21491, 125.048729, 0.25],\n [11.21486, 125.048477, 0.25],\n [11.21755, 125.047287, 1.0],\n [11.21723, 125.046898, 0.25],\n [11.21491, 125.048729, 0.25],\n [11.21486, 125.048477, 0.25],\n [11.21659, 125.046661, 1.0],\n [11.2175, 125.047333, 0.25],\n [11.21734, 125.046837, 0.25],\n [11.21769, 125.046661, 1.0],\n [11.21693, 125.047081, 0.25],\n [11.21734, 125.046837, 1.0],\n [11.21727, 125.046867, 0.25],\n [11.21507, 125.048058, 0.25],\n [11.21583, 125.04715, 0.25],\n [11.21541, 125.048683, 0.0],\n [11.21491, 125.048729, 1.0],\n [11.21486, 125.048477, 0.0],\n [11.21686, 125.046799, 0.25],\n [11.21686, 125.046799, 0.0],\n [11.21632, 125.048187, 0.5],\n [11.21679, 125.047943, 0.25],\n [11.21672, 125.047989, 0.0],\n [11.21491, 125.048729, 0.25],\n [11.21507, 125.048058, 0.0],\n [11.21734, 125.046837, 0.0],\n [11.21493, 125.04882, 0.25],\n [11.21672, 125.047989, 0.25],\n [11.21632, 125.048187, 1.0],\n [11.21541, 125.048683, 0.25],\n [11.21727, 125.046867, 0.0],\n [11.21491, 125.048729, 0.5],\n [11.21727, 125.046867, 0.25],\n [11.21507, 125.048058, 0.5],\n [11.21755, 125.047287, 0.25],\n [11.21693, 125.047081, 0.25],\n [11.21734, 125.046837, 0.25],\n [11.21686, 125.046799, 0.25],\n [11.21541, 125.048683, 0.5],\n [11.21769, 125.046661, 0.25],\n [11.21541, 125.048683, 0.25],\n ...]"
     },
     "execution_count": 35,
     "metadata": {},
     "output_type": "execute_result"
    }
   ],
   "source": [
    "heat_list = []\n",
    "\n",
    "for _loc in range(location_sentiment_df.shape[0]):\n",
    "    temp = location_sentiment_df.coordinates[_loc].split(\"/\")\n",
    "    #((-2 * -1) + 2)/4\n",
    "    heat_list.append([float(temp[0]), float(temp[1]), float(((location_sentiment_df.Sentiment[_loc] * -1) + 2)/4)])\n",
    "    #heat_list.append([float(temp[0]), float(temp[1]), random.random()])\n",
    "    pass\n",
    "heat_list"
   ],
   "metadata": {
    "collapsed": false,
    "pycharm": {
     "name": "#%%\n"
    }
   }
  },
  {
   "cell_type": "code",
   "execution_count": 36,
   "id": "688d19f1-3c6a-402f-ac78-4a8d7cf9aa1b",
   "metadata": {
    "pycharm": {
     "name": "#%%\n"
    }
   },
   "outputs": [],
   "source": [
    "import folium\n",
    "from folium.plugins import HeatMap\n",
    "\n",
    "mapObj = folium.Map([12, 122], zoom_start=6)\n",
    "\n",
    "# create heatmap from the data and add to map\n",
    "HeatMap(heat_list).add_to(mapObj)\n",
    "\n",
    "mapObj.save(\"output.html\")"
   ]
  },
  {
   "cell_type": "code",
   "execution_count": 37,
   "outputs": [
    {
     "data": {
      "text/plain": "     Location  Sentiment  id          coordinates\n0       Leyte          1  43  11.21679/125.047943\n1       Leyte         -2  43  11.21491/125.048729\n2       Leyte         -2  43  11.21769/125.046661\n3       Leyte         -2  43  11.21693/125.047081\n4       Leyte          0  43   11.21583/125.04715\n...       ...        ...  ..                  ...\n3386    Leyte         -2  43  11.21486/125.048477\n3387    Leyte         -2  43  11.21672/125.047989\n3388    Leyte          1  43  11.21755/125.047287\n3389    Leyte          1  43   11.21583/125.04715\n3390    Leyte         -2  43  11.21632/125.048187\n\n[3391 rows x 4 columns]",
      "text/html": "<div>\n<style scoped>\n    .dataframe tbody tr th:only-of-type {\n        vertical-align: middle;\n    }\n\n    .dataframe tbody tr th {\n        vertical-align: top;\n    }\n\n    .dataframe thead th {\n        text-align: right;\n    }\n</style>\n<table border=\"1\" class=\"dataframe\">\n  <thead>\n    <tr style=\"text-align: right;\">\n      <th></th>\n      <th>Location</th>\n      <th>Sentiment</th>\n      <th>id</th>\n      <th>coordinates</th>\n    </tr>\n  </thead>\n  <tbody>\n    <tr>\n      <th>0</th>\n      <td>Leyte</td>\n      <td>1</td>\n      <td>43</td>\n      <td>11.21679/125.047943</td>\n    </tr>\n    <tr>\n      <th>1</th>\n      <td>Leyte</td>\n      <td>-2</td>\n      <td>43</td>\n      <td>11.21491/125.048729</td>\n    </tr>\n    <tr>\n      <th>2</th>\n      <td>Leyte</td>\n      <td>-2</td>\n      <td>43</td>\n      <td>11.21769/125.046661</td>\n    </tr>\n    <tr>\n      <th>3</th>\n      <td>Leyte</td>\n      <td>-2</td>\n      <td>43</td>\n      <td>11.21693/125.047081</td>\n    </tr>\n    <tr>\n      <th>4</th>\n      <td>Leyte</td>\n      <td>0</td>\n      <td>43</td>\n      <td>11.21583/125.04715</td>\n    </tr>\n    <tr>\n      <th>...</th>\n      <td>...</td>\n      <td>...</td>\n      <td>...</td>\n      <td>...</td>\n    </tr>\n    <tr>\n      <th>3386</th>\n      <td>Leyte</td>\n      <td>-2</td>\n      <td>43</td>\n      <td>11.21486/125.048477</td>\n    </tr>\n    <tr>\n      <th>3387</th>\n      <td>Leyte</td>\n      <td>-2</td>\n      <td>43</td>\n      <td>11.21672/125.047989</td>\n    </tr>\n    <tr>\n      <th>3388</th>\n      <td>Leyte</td>\n      <td>1</td>\n      <td>43</td>\n      <td>11.21755/125.047287</td>\n    </tr>\n    <tr>\n      <th>3389</th>\n      <td>Leyte</td>\n      <td>1</td>\n      <td>43</td>\n      <td>11.21583/125.04715</td>\n    </tr>\n    <tr>\n      <th>3390</th>\n      <td>Leyte</td>\n      <td>-2</td>\n      <td>43</td>\n      <td>11.21632/125.048187</td>\n    </tr>\n  </tbody>\n</table>\n<p>3391 rows × 4 columns</p>\n</div>"
     },
     "execution_count": 37,
     "metadata": {},
     "output_type": "execute_result"
    }
   ],
   "source": [
    "occuring_loc = location_sentiment_df.Location.value_counts().reset_index()['index']\n",
    "locs_sentiment = pd.DataFrame()\n",
    "summ_locs_sentiment = pd.DataFrame()\n",
    "list_mean = []\n",
    "\n",
    "for _loc in range(occuring_loc.shape[0]):\n",
    "    place = occuring_loc[_loc]\n",
    "    temp = location_sentiment_df.loc[location_sentiment_df[\"Location\"].isin([place])].Sentiment.reset_index(drop=True)\n",
    "    locs_sentiment[place] = temp\n",
    "for _loc in range(occuring_loc.shape[0]):\n",
    "    place = occuring_loc[_loc]\n",
    "    list_mean.append(locs_sentiment[place].mean())\n",
    "\n",
    "summ_locs_sentiment['mean'] = pd.Series(list_mean)\n",
    "summ_locs_sentiment['location'] = occuring_loc\n",
    "summ_locs_sentiment['id'] = summ_locs_sentiment[\"location\"].apply(lambda x: id_map[x])\n",
    "location_sentiment_df"
   ],
   "metadata": {
    "collapsed": false,
    "pycharm": {
     "name": "#%%\n"
    }
   }
  },
  {
   "cell_type": "code",
   "execution_count": 38,
   "outputs": [],
   "source": [
    "fig = px.choropleth_mapbox(\n",
    "    summ_locs_sentiment,\n",
    "    locations=\"id\",\n",
    "    geojson=provinces,\n",
    "    color=\"mean\",\n",
    "    title=\"PH\",\n",
    "    mapbox_style=\"carto-positron\",\n",
    "    center={\"lat\": 12, \"lon\": 122},\n",
    "    opacity=0.5,\n",
    "    zoom=5,\n",
    ")\n",
    "fig.show()"
   ],
   "metadata": {
    "collapsed": false,
    "pycharm": {
     "name": "#%%\n"
    }
   }
  }
 ],
 "metadata": {
  "kernelspec": {
   "display_name": "Python 3 (ipykernel)",
   "language": "python",
   "name": "python3"
  },
  "language_info": {
   "codemirror_mode": {
    "name": "ipython",
    "version": 3
   },
   "file_extension": ".py",
   "mimetype": "text/x-python",
   "name": "python",
   "nbconvert_exporter": "python",
   "pygments_lexer": "ipython3",
   "version": "3.8.3"
  }
 },
 "nbformat": 4,
 "nbformat_minor": 5
}